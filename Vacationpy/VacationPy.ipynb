{
 "cells": [
  {
   "cell_type": "markdown",
   "metadata": {},
   "source": [
    "# VacationPy\n",
    "----\n",
    "\n",
    "#### Note\n",
    "* Keep an eye on your API usage. Use https://developers.google.com/maps/reporting/gmp-reporting as reference for how to monitor your usage and billing.\n",
    "\n",
    "* Instructions have been included for each segment. You do not have to follow them exactly, but they are included to help you think through the steps."
   ]
  },
  {
   "cell_type": "code",
   "execution_count": 9,
   "metadata": {},
   "outputs": [],
   "source": [
    "# Dependencies and Setup\n",
    "import matplotlib.pyplot as plt\n",
    "import pandas as pd\n",
    "import numpy as np\n",
    "import requests\n",
    "import gmaps\n",
    "import gmaps.datasets\n",
    "import os\n",
    "import csv\n",
    "import json\n",
    "#\n",
    "# import API key\n",
    "from api_keys import g_key\n",
    "\n",
    "import requests\n",
    "\n",
    "target_city = \"Boise, Idaho\"\n",
    "\n",
    "url = f\"https://maps.googleapis.com/maps/api/geocode/json?address={target_city}, Manchester&key={g_key}\"\n",
    "\n",
    "payload={}\n",
    "headers = {}\n",
    "\n",
    "response = requests.request(\"GET\", url, headers=headers, data=payload)\n",
    "\n"
   ]
  },
  {
   "cell_type": "code",
   "execution_count": 8,
   "outputs": [
    {
     "data": {
      "text/plain": "{'results': [{'address_components': [{'long_name': 'Piccadilly',\n     'short_name': 'Piccadilly',\n     'types': ['route']},\n    {'long_name': 'Manchester',\n     'short_name': 'Manchester',\n     'types': ['postal_town']},\n    {'long_name': 'Greater Manchester',\n     'short_name': 'Greater Manchester',\n     'types': ['administrative_area_level_2', 'political']},\n    {'long_name': 'England',\n     'short_name': 'England',\n     'types': ['administrative_area_level_1', 'political']},\n    {'long_name': 'United Kingdom',\n     'short_name': 'GB',\n     'types': ['country', 'political']},\n    {'long_name': 'M1',\n     'short_name': 'M1',\n     'types': ['postal_code', 'postal_code_prefix']}],\n   'formatted_address': 'Piccadilly, Manchester M1, UK',\n   'geometry': {'bounds': {'northeast': {'lat': 53.4815134, 'lng': -2.2325366},\n     'southwest': {'lat': 53.4788519, 'lng': -2.2370611}},\n    'location': {'lat': 53.4804205, 'lng': -2.2340932},\n    'location_type': 'GEOMETRIC_CENTER',\n    'viewport': {'northeast': {'lat': 53.48153163029151, 'lng': -2.2325366},\n     'southwest': {'lat': 53.47883366970851, 'lng': -2.2370611}}},\n   'place_id': 'ChIJlUPPRr6xe0gRGJm-4vGOTvY',\n   'types': ['route']}],\n 'status': 'OK'}"
     },
     "execution_count": 8,
     "metadata": {},
     "output_type": "execute_result"
    }
   ],
   "source": [
    "response = requests.get(url)\n",
    "response_json = response.json()\n",
    "response_json"
   ],
   "metadata": {
    "collapsed": false
   }
  },
  {
   "cell_type": "code",
   "execution_count": 16,
   "outputs": [
    {
     "data": {
      "text/plain": "'{\\n    \"results\": [\\n        {\\n            \"address_components\": [\\n                {\\n                    \"long_name\": \"Piccadilly\",\\n                    \"short_name\": \"Piccadilly\",\\n                    \"types\": [\\n                        \"route\"\\n                    ]\\n                },\\n                {\\n                    \"long_name\": \"Manchester\",\\n                    \"short_name\": \"Manchester\",\\n                    \"types\": [\\n                        \"postal_town\"\\n                    ]\\n                },\\n                {\\n                    \"long_name\": \"Greater Manchester\",\\n                    \"short_name\": \"Greater Manchester\",\\n                    \"types\": [\\n                        \"administrative_area_level_2\",\\n                        \"political\"\\n                    ]\\n                },\\n                {\\n                    \"long_name\": \"England\",\\n                    \"short_name\": \"England\",\\n                    \"types\": [\\n                        \"administrative_area_level_1\",\\n                        \"political\"\\n                    ]\\n                },\\n                {\\n                    \"long_name\": \"United Kingdom\",\\n                    \"short_name\": \"GB\",\\n                    \"types\": [\\n                        \"country\",\\n                        \"political\"\\n                    ]\\n                },\\n                {\\n                    \"long_name\": \"M1\",\\n                    \"short_name\": \"M1\",\\n                    \"types\": [\\n                        \"postal_code\",\\n                        \"postal_code_prefix\"\\n                    ]\\n                }\\n            ],\\n            \"formatted_address\": \"Piccadilly, Manchester M1, UK\",\\n            \"geometry\": {\\n                \"bounds\": {\\n                    \"northeast\": {\\n                        \"lat\": 53.4815134,\\n                        \"lng\": -2.2325366\\n                    },\\n                    \"southwest\": {\\n                        \"lat\": 53.4788519,\\n                        \"lng\": -2.2370611\\n                    }\\n                },\\n                \"location\": {\\n                    \"lat\": 53.4804205,\\n                    \"lng\": -2.2340932\\n                },\\n                \"location_type\": \"GEOMETRIC_CENTER\",\\n                \"viewport\": {\\n                    \"northeast\": {\\n                        \"lat\": 53.48153163029151,\\n                        \"lng\": -2.2325366\\n                    },\\n                    \"southwest\": {\\n                        \"lat\": 53.47883366970851,\\n                        \"lng\": -2.2370611\\n                    }\\n                }\\n            },\\n            \"place_id\": \"ChIJlUPPRr6xe0gRGJm-4vGOTvY\",\\n            \"types\": [\\n                \"route\"\\n            ]\\n        }\\n    ],\\n    \"status\": \"OK\"\\n}'"
     },
     "execution_count": 16,
     "metadata": {},
     "output_type": "execute_result"
    }
   ],
   "source": [
    "json.dumps(response_json, indent=4)"
   ],
   "metadata": {
    "collapsed": false
   }
  },
  {
   "cell_type": "code",
   "execution_count": 13,
   "outputs": [
    {
     "data": {
      "text/plain": "{'lat': 53.4804205, 'lng': -2.2340932}"
     },
     "execution_count": 13,
     "metadata": {},
     "output_type": "execute_result"
    }
   ],
   "source": [
    "response_json['results'][0]['geometry']['location']"
   ],
   "metadata": {
    "collapsed": false
   }
  },
  {
   "cell_type": "code",
   "execution_count": 53,
   "outputs": [
    {
     "ename": "JSONDecodeError",
     "evalue": "Expecting value: line 1 column 1 (char 0)",
     "output_type": "error",
     "traceback": [
      "\u001B[0;31m---------------------------------------------------------------------------\u001B[0m",
      "\u001B[0;31mJSONDecodeError\u001B[0m                           Traceback (most recent call last)",
      "File \u001B[0;32m~/.conda/envs/BootCamp_University/lib/python3.10/site-packages/requests/models.py:971\u001B[0m, in \u001B[0;36mResponse.json\u001B[0;34m(self, **kwargs)\u001B[0m\n\u001B[1;32m    970\u001B[0m \u001B[38;5;28;01mtry\u001B[39;00m:\n\u001B[0;32m--> 971\u001B[0m     \u001B[38;5;28;01mreturn\u001B[39;00m \u001B[43mcomplexjson\u001B[49m\u001B[38;5;241;43m.\u001B[39;49m\u001B[43mloads\u001B[49m\u001B[43m(\u001B[49m\u001B[38;5;28;43mself\u001B[39;49m\u001B[38;5;241;43m.\u001B[39;49m\u001B[43mtext\u001B[49m\u001B[43m,\u001B[49m\u001B[43m \u001B[49m\u001B[38;5;241;43m*\u001B[39;49m\u001B[38;5;241;43m*\u001B[39;49m\u001B[43mkwargs\u001B[49m\u001B[43m)\u001B[49m\n\u001B[1;32m    972\u001B[0m \u001B[38;5;28;01mexcept\u001B[39;00m JSONDecodeError \u001B[38;5;28;01mas\u001B[39;00m e:\n\u001B[1;32m    973\u001B[0m     \u001B[38;5;66;03m# Catch JSON-related errors and raise as requests.JSONDecodeError\u001B[39;00m\n\u001B[1;32m    974\u001B[0m     \u001B[38;5;66;03m# This aliases json.JSONDecodeError and simplejson.JSONDecodeError\u001B[39;00m\n",
      "File \u001B[0;32m~/.conda/envs/BootCamp_University/lib/python3.10/json/__init__.py:346\u001B[0m, in \u001B[0;36mloads\u001B[0;34m(s, cls, object_hook, parse_float, parse_int, parse_constant, object_pairs_hook, **kw)\u001B[0m\n\u001B[1;32m    343\u001B[0m \u001B[38;5;28;01mif\u001B[39;00m (\u001B[38;5;28mcls\u001B[39m \u001B[38;5;129;01mis\u001B[39;00m \u001B[38;5;28;01mNone\u001B[39;00m \u001B[38;5;129;01mand\u001B[39;00m object_hook \u001B[38;5;129;01mis\u001B[39;00m \u001B[38;5;28;01mNone\u001B[39;00m \u001B[38;5;129;01mand\u001B[39;00m\n\u001B[1;32m    344\u001B[0m         parse_int \u001B[38;5;129;01mis\u001B[39;00m \u001B[38;5;28;01mNone\u001B[39;00m \u001B[38;5;129;01mand\u001B[39;00m parse_float \u001B[38;5;129;01mis\u001B[39;00m \u001B[38;5;28;01mNone\u001B[39;00m \u001B[38;5;129;01mand\u001B[39;00m\n\u001B[1;32m    345\u001B[0m         parse_constant \u001B[38;5;129;01mis\u001B[39;00m \u001B[38;5;28;01mNone\u001B[39;00m \u001B[38;5;129;01mand\u001B[39;00m object_pairs_hook \u001B[38;5;129;01mis\u001B[39;00m \u001B[38;5;28;01mNone\u001B[39;00m \u001B[38;5;129;01mand\u001B[39;00m \u001B[38;5;129;01mnot\u001B[39;00m kw):\n\u001B[0;32m--> 346\u001B[0m     \u001B[38;5;28;01mreturn\u001B[39;00m \u001B[43m_default_decoder\u001B[49m\u001B[38;5;241;43m.\u001B[39;49m\u001B[43mdecode\u001B[49m\u001B[43m(\u001B[49m\u001B[43ms\u001B[49m\u001B[43m)\u001B[49m\n\u001B[1;32m    347\u001B[0m \u001B[38;5;28;01mif\u001B[39;00m \u001B[38;5;28mcls\u001B[39m \u001B[38;5;129;01mis\u001B[39;00m \u001B[38;5;28;01mNone\u001B[39;00m:\n",
      "File \u001B[0;32m~/.conda/envs/BootCamp_University/lib/python3.10/json/decoder.py:337\u001B[0m, in \u001B[0;36mJSONDecoder.decode\u001B[0;34m(self, s, _w)\u001B[0m\n\u001B[1;32m    333\u001B[0m \u001B[38;5;124;03m\"\"\"Return the Python representation of ``s`` (a ``str`` instance\u001B[39;00m\n\u001B[1;32m    334\u001B[0m \u001B[38;5;124;03mcontaining a JSON document).\u001B[39;00m\n\u001B[1;32m    335\u001B[0m \n\u001B[1;32m    336\u001B[0m \u001B[38;5;124;03m\"\"\"\u001B[39;00m\n\u001B[0;32m--> 337\u001B[0m obj, end \u001B[38;5;241m=\u001B[39m \u001B[38;5;28;43mself\u001B[39;49m\u001B[38;5;241;43m.\u001B[39;49m\u001B[43mraw_decode\u001B[49m\u001B[43m(\u001B[49m\u001B[43ms\u001B[49m\u001B[43m,\u001B[49m\u001B[43m \u001B[49m\u001B[43midx\u001B[49m\u001B[38;5;241;43m=\u001B[39;49m\u001B[43m_w\u001B[49m\u001B[43m(\u001B[49m\u001B[43ms\u001B[49m\u001B[43m,\u001B[49m\u001B[43m \u001B[49m\u001B[38;5;241;43m0\u001B[39;49m\u001B[43m)\u001B[49m\u001B[38;5;241;43m.\u001B[39;49m\u001B[43mend\u001B[49m\u001B[43m(\u001B[49m\u001B[43m)\u001B[49m\u001B[43m)\u001B[49m\n\u001B[1;32m    338\u001B[0m end \u001B[38;5;241m=\u001B[39m _w(s, end)\u001B[38;5;241m.\u001B[39mend()\n",
      "File \u001B[0;32m~/.conda/envs/BootCamp_University/lib/python3.10/json/decoder.py:355\u001B[0m, in \u001B[0;36mJSONDecoder.raw_decode\u001B[0;34m(self, s, idx)\u001B[0m\n\u001B[1;32m    354\u001B[0m \u001B[38;5;28;01mexcept\u001B[39;00m \u001B[38;5;167;01mStopIteration\u001B[39;00m \u001B[38;5;28;01mas\u001B[39;00m err:\n\u001B[0;32m--> 355\u001B[0m     \u001B[38;5;28;01mraise\u001B[39;00m JSONDecodeError(\u001B[38;5;124m\"\u001B[39m\u001B[38;5;124mExpecting value\u001B[39m\u001B[38;5;124m\"\u001B[39m, s, err\u001B[38;5;241m.\u001B[39mvalue) \u001B[38;5;28;01mfrom\u001B[39;00m \u001B[38;5;28mNone\u001B[39m\n\u001B[1;32m    356\u001B[0m \u001B[38;5;28;01mreturn\u001B[39;00m obj, end\n",
      "\u001B[0;31mJSONDecodeError\u001B[0m: Expecting value: line 1 column 1 (char 0)",
      "\nDuring handling of the above exception, another exception occurred:\n",
      "\u001B[0;31mJSONDecodeError\u001B[0m                           Traceback (most recent call last)",
      "Input \u001B[0;32mIn [53]\u001B[0m, in \u001B[0;36m<cell line: 14>\u001B[0;34m()\u001B[0m\n\u001B[1;32m     12\u001B[0m url \u001B[38;5;241m=\u001B[39m \u001B[38;5;124m'\u001B[39m\u001B[38;5;124mhttps://maps.googleapis.com/maps/api/place/nearbysearch/output?parameters\u001B[39m\u001B[38;5;124m'\u001B[39m\n\u001B[1;32m     13\u001B[0m response \u001B[38;5;241m=\u001B[39m requests\u001B[38;5;241m.\u001B[39mget(url,params\u001B[38;5;241m=\u001B[39mparams)\n\u001B[0;32m---> 14\u001B[0m response_json \u001B[38;5;241m=\u001B[39m \u001B[43mresponse\u001B[49m\u001B[38;5;241;43m.\u001B[39;49m\u001B[43mjson\u001B[49m\u001B[43m(\u001B[49m\u001B[43m)\u001B[49m\n",
      "File \u001B[0;32m~/.conda/envs/BootCamp_University/lib/python3.10/site-packages/requests/models.py:975\u001B[0m, in \u001B[0;36mResponse.json\u001B[0;34m(self, **kwargs)\u001B[0m\n\u001B[1;32m    971\u001B[0m     \u001B[38;5;28;01mreturn\u001B[39;00m complexjson\u001B[38;5;241m.\u001B[39mloads(\u001B[38;5;28mself\u001B[39m\u001B[38;5;241m.\u001B[39mtext, \u001B[38;5;241m*\u001B[39m\u001B[38;5;241m*\u001B[39mkwargs)\n\u001B[1;32m    972\u001B[0m \u001B[38;5;28;01mexcept\u001B[39;00m JSONDecodeError \u001B[38;5;28;01mas\u001B[39;00m e:\n\u001B[1;32m    973\u001B[0m     \u001B[38;5;66;03m# Catch JSON-related errors and raise as requests.JSONDecodeError\u001B[39;00m\n\u001B[1;32m    974\u001B[0m     \u001B[38;5;66;03m# This aliases json.JSONDecodeError and simplejson.JSONDecodeError\u001B[39;00m\n\u001B[0;32m--> 975\u001B[0m     \u001B[38;5;28;01mraise\u001B[39;00m RequestsJSONDecodeError(e\u001B[38;5;241m.\u001B[39mmsg, e\u001B[38;5;241m.\u001B[39mdoc, e\u001B[38;5;241m.\u001B[39mpos)\n",
      "\u001B[0;31mJSONDecodeError\u001B[0m: Expecting value: line 1 column 1 (char 0)"
     ]
    }
   ],
   "source": [
    "location = \"53.4804205, -2.2340932\"\n",
    "loc_type = \"bicycle_store\"\n",
    "radius = 8000\n",
    "\n",
    "params = {\n",
    "    'location':location,\n",
    "    'type':loc_type,\n",
    "    'radius':radius,\n",
    "    'key':g_key\n",
    "}\n",
    "\n",
    "url = 'https://maps.googleapis.com/maps/api/place/nearbysearch/output?parameters'\n",
    "response = requests.get(url,params=params)\n",
    "response_json = response.json()"
   ],
   "metadata": {
    "collapsed": false
   }
  },
  {
   "cell_type": "code",
   "execution_count": 25,
   "outputs": [
    {
     "data": {
      "text/plain": "dict_keys(['error_message', 'html_attributions', 'results', 'status'])"
     },
     "execution_count": 25,
     "metadata": {},
     "output_type": "execute_result"
    }
   ],
   "source": [
    "response_json.keys()"
   ],
   "metadata": {
    "collapsed": false
   }
  },
  {
   "cell_type": "markdown",
   "metadata": {},
   "source": [
    "### Store Part I results into DataFrame\n",
    "* Load the csv exported in Part I to a DataFrame"
   ]
  },
  {
   "cell_type": "code",
   "execution_count": 6,
   "metadata": {},
   "outputs": [
    {
     "data": {
      "text/plain": "     Unnamed: 0  City_ID       City City Country   City date      Lat  \\\n0             0        1  mount isa           AU  1665334419 -20.7333   \n1             1        2    rikitea           PF  1665334419 -23.1203   \n2             2        3  ostrovnoy           RU  1665334419  68.0531   \n3             3        4    vierzon           FR  1665334419  47.2101   \n4             4        5   nhamunda           BR  1665334420  -2.1861   \n..          ...      ...        ...          ...         ...      ...   \n573         573      574       hami           CN  1665334566  42.8000   \n574         574      575    parambu           BR  1665334567  -6.2111   \n575         575      576    hoskote           IN  1665334567  13.0669   \n576         576      577      korla           CN  1665334568  41.7597   \n577         577      578   ranfurly           NZ  1665334568 -45.1333   \n\n          Lng  Max Temp  Humidity  Cloudiness  Wind Speed  \n0    139.5000     67.77        21           0       11.50  \n1   -134.9692     71.46        69          10       17.29  \n2     39.5131     41.61        79          76       16.28  \n3      2.0625     68.38        56           1        4.50  \n4    -56.7131    104.90        19          84        7.09  \n..        ...       ...       ...         ...         ...  \n573   93.4500     54.84        15          43        3.78  \n574  -40.6944     97.61        16           6       11.61  \n575   77.7983     71.62       100          75        4.61  \n576   86.1469     59.41        26           0        3.51  \n577  170.1000     45.10        76          76        5.48  \n\n[578 rows x 11 columns]",
      "text/html": "<div>\n<style scoped>\n    .dataframe tbody tr th:only-of-type {\n        vertical-align: middle;\n    }\n\n    .dataframe tbody tr th {\n        vertical-align: top;\n    }\n\n    .dataframe thead th {\n        text-align: right;\n    }\n</style>\n<table border=\"1\" class=\"dataframe\">\n  <thead>\n    <tr style=\"text-align: right;\">\n      <th></th>\n      <th>Unnamed: 0</th>\n      <th>City_ID</th>\n      <th>City</th>\n      <th>City Country</th>\n      <th>City date</th>\n      <th>Lat</th>\n      <th>Lng</th>\n      <th>Max Temp</th>\n      <th>Humidity</th>\n      <th>Cloudiness</th>\n      <th>Wind Speed</th>\n    </tr>\n  </thead>\n  <tbody>\n    <tr>\n      <th>0</th>\n      <td>0</td>\n      <td>1</td>\n      <td>mount isa</td>\n      <td>AU</td>\n      <td>1665334419</td>\n      <td>-20.7333</td>\n      <td>139.5000</td>\n      <td>67.77</td>\n      <td>21</td>\n      <td>0</td>\n      <td>11.50</td>\n    </tr>\n    <tr>\n      <th>1</th>\n      <td>1</td>\n      <td>2</td>\n      <td>rikitea</td>\n      <td>PF</td>\n      <td>1665334419</td>\n      <td>-23.1203</td>\n      <td>-134.9692</td>\n      <td>71.46</td>\n      <td>69</td>\n      <td>10</td>\n      <td>17.29</td>\n    </tr>\n    <tr>\n      <th>2</th>\n      <td>2</td>\n      <td>3</td>\n      <td>ostrovnoy</td>\n      <td>RU</td>\n      <td>1665334419</td>\n      <td>68.0531</td>\n      <td>39.5131</td>\n      <td>41.61</td>\n      <td>79</td>\n      <td>76</td>\n      <td>16.28</td>\n    </tr>\n    <tr>\n      <th>3</th>\n      <td>3</td>\n      <td>4</td>\n      <td>vierzon</td>\n      <td>FR</td>\n      <td>1665334419</td>\n      <td>47.2101</td>\n      <td>2.0625</td>\n      <td>68.38</td>\n      <td>56</td>\n      <td>1</td>\n      <td>4.50</td>\n    </tr>\n    <tr>\n      <th>4</th>\n      <td>4</td>\n      <td>5</td>\n      <td>nhamunda</td>\n      <td>BR</td>\n      <td>1665334420</td>\n      <td>-2.1861</td>\n      <td>-56.7131</td>\n      <td>104.90</td>\n      <td>19</td>\n      <td>84</td>\n      <td>7.09</td>\n    </tr>\n    <tr>\n      <th>...</th>\n      <td>...</td>\n      <td>...</td>\n      <td>...</td>\n      <td>...</td>\n      <td>...</td>\n      <td>...</td>\n      <td>...</td>\n      <td>...</td>\n      <td>...</td>\n      <td>...</td>\n      <td>...</td>\n    </tr>\n    <tr>\n      <th>573</th>\n      <td>573</td>\n      <td>574</td>\n      <td>hami</td>\n      <td>CN</td>\n      <td>1665334566</td>\n      <td>42.8000</td>\n      <td>93.4500</td>\n      <td>54.84</td>\n      <td>15</td>\n      <td>43</td>\n      <td>3.78</td>\n    </tr>\n    <tr>\n      <th>574</th>\n      <td>574</td>\n      <td>575</td>\n      <td>parambu</td>\n      <td>BR</td>\n      <td>1665334567</td>\n      <td>-6.2111</td>\n      <td>-40.6944</td>\n      <td>97.61</td>\n      <td>16</td>\n      <td>6</td>\n      <td>11.61</td>\n    </tr>\n    <tr>\n      <th>575</th>\n      <td>575</td>\n      <td>576</td>\n      <td>hoskote</td>\n      <td>IN</td>\n      <td>1665334567</td>\n      <td>13.0669</td>\n      <td>77.7983</td>\n      <td>71.62</td>\n      <td>100</td>\n      <td>75</td>\n      <td>4.61</td>\n    </tr>\n    <tr>\n      <th>576</th>\n      <td>576</td>\n      <td>577</td>\n      <td>korla</td>\n      <td>CN</td>\n      <td>1665334568</td>\n      <td>41.7597</td>\n      <td>86.1469</td>\n      <td>59.41</td>\n      <td>26</td>\n      <td>0</td>\n      <td>3.51</td>\n    </tr>\n    <tr>\n      <th>577</th>\n      <td>577</td>\n      <td>578</td>\n      <td>ranfurly</td>\n      <td>NZ</td>\n      <td>1665334568</td>\n      <td>-45.1333</td>\n      <td>170.1000</td>\n      <td>45.10</td>\n      <td>76</td>\n      <td>76</td>\n      <td>5.48</td>\n    </tr>\n  </tbody>\n</table>\n<p>578 rows × 11 columns</p>\n</div>"
     },
     "execution_count": 6,
     "metadata": {},
     "output_type": "execute_result"
    }
   ],
   "source": [
    "# load the csv\n",
    "data = pd.read_csv(\"/Users/siyuanliang/BootCamp_University/Python-api-challenge/WeatherPy/Whether.csv\")\n",
    "data\n"
   ]
  },
  {
   "cell_type": "code",
   "execution_count": 7,
   "metadata": {},
   "outputs": [
    {
     "data": {
      "text/plain": "[(-20.7333, 139.5),\n (-23.1203, -134.9692),\n (68.0531, 39.5131),\n (47.2101, 2.0625),\n (-2.1861, -56.7131),\n (-46.1927, 168.8643),\n (42.7762, -9.0603),\n (-45.8742, 170.5036),\n (-33.65, 115.3333),\n (7.9986, 124.2928),\n (-53.15, -70.9167),\n (65.282, -126.8329),\n (42.097, -79.2353),\n (-6.7167, 36.3667),\n (-21.2, -175.2),\n (57.79, -152.4072),\n (39.05, -27.9833),\n (-42.7826, 147.0587),\n (42.6001, -73.9662),\n (60.7253, 114.9278),\n (-34.4187, 19.2345),\n (-54.8, -68.3),\n (-19.9842, 57.6142),\n (71.2906, -156.7887),\n (-22.9661, -42.0278),\n (-21.2078, -159.775),\n (-11.0964, -77.6139),\n (-6.2167, 155.6333),\n (40.81, 114.8794),\n (42.9744, 140.5089),\n (-35.3333, -72.4167),\n (-43.3002, -65.1023),\n (22.8909, -109.9124),\n (-34.5322, 20.0403),\n (73.5069, 80.5464),\n (77.484, -69.3632),\n (-33.918, 25.5701),\n (-33.0153, 27.9116),\n (3.0372, 29.5355),\n (3.0707, 172.7902),\n (-46.1333, 167.6833),\n (22.2855, 114.1577),\n (-33.9258, 18.4232),\n (-12.2333, 136.7667),\n (59.2353, 163.0719),\n (38.5167, -28.7),\n (-6.9811, -34.8339),\n (20.7167, -97.3167),\n (64.8945, -23.7142),\n (-21.3585, 55.7679),\n (62.5833, 6.1333),\n (19.7297, -155.09),\n (70.6333, 147.9167),\n (-33.8667, 121.9),\n (-20.65, 166.5333),\n (42.0304, -8.1588),\n (68.75, 161.3),\n (69.4541, -133.0374),\n (26.6845, -80.6676),\n (-20.5167, 57.5167),\n (26.75, 94.2167),\n (-15.1961, 12.1522),\n (-34.5833, 150.8552),\n (31.7561, 25.0865),\n (62.5333, 155.8),\n (-16.7725, 31.5838),\n (-20.2078, 57.7625),\n (-46.2817, 169.8464),\n (-38.2667, 141.9667),\n (-42.8794, 147.3294),\n (29.7057, 118.2862),\n (64.5011, -165.4064),\n (-8.145, 159.5921),\n (45.0205, -93.218),\n (59.7035, 30.7861),\n (-18.1667, 49.3833),\n (-20.3428, 57.7575),\n (34.5686, 105.8933),\n (27.9769, -114.0611),\n (-2.0833, 101.3833),\n (-24.7911, -50.0119),\n (-31.9333, 115.8333),\n (63.4427, -20.2734),\n (20.7, -102.35),\n (-7.9667, 31.6167),\n (69.2167, -51.1),\n (-19.55, 169.2667),\n (-24.8667, 113.6333),\n (14.3122, 121.1114),\n (-33.5906, 26.891),\n (-9.8, -139.0333),\n (-16.4833, -151.75),\n (39.4735, -118.7774),\n (-45.4167, 167.7167),\n (14.9215, -23.5087),\n (60.1432, -45.2371),\n (28.6585, -17.9182),\n (69.7008, 170.3133),\n (32.296, -81.2354),\n (68.8193, -51.1922),\n (7.9803, 49.8164),\n (5.4019, -75.8847),\n (57.4604, 48.542),\n (40.6192, 46.6519),\n (71.6872, 128.8694),\n (62.456, -114.3525),\n (65.9939, 57.5281),\n (39.447, -86.1758),\n (56.1325, 101.6142),\n (-0.9, -89.6),\n (70.3705, 31.1107),\n (45.7833, -108.5007),\n (47.6666, -52.7314),\n (40.8106, 111.6522),\n (-19.0595, -169.9187),\n (22.4947, -79.5458),\n (65.8481, 24.1466),\n (-3.4833, 23.4333),\n (19.9333, -105.25),\n (-46.6, 168.3333),\n (-8.7522, -67.3978),\n (-36.6167, -72.95),\n (20.1986, 1.0114),\n (4.8005, 18.1275),\n (40.5614, 65.6886),\n (10.4762, -66.5427),\n (45.5234, -122.6762),\n (35.7333, 140.8333),\n (54.2344, 90.8328),\n (-8.9266, 125.4092),\n (41.3712, -73.414),\n (-1.8283, -44.8683),\n (33.7475, -116.972),\n (71.9167, 114.0833),\n (30.5335, -92.0815),\n (4.4148, 114.0089),\n (-2.6741, 141.3028),\n (-0.7393, -90.3518),\n (10.1667, -14.0333),\n (22.0752, -159.319),\n (37.7799, -121.978),\n (32.516, -93.7321),\n (56.5352, 21.1678),\n (-9.0763, 143.2092),\n (64.5667, 143.2),\n (33.194, -82.5271),\n (-8.9833, -77.3),\n (-3.6667, 152.4333),\n (5.4033, 125.4636),\n (70.6345, 29.7185),\n (26.326, 43.975),\n (32.6475, 110.7781),\n (-3.1374, 142.3475),\n (-38.0023, -57.5575),\n (7.5072, -11.4786),\n (-37.6167, -73.65),\n (43.6475, 111.9767),\n (49.2819, 9.6889),\n (-0.6, 73.0833),\n (-29.539, 31.2144),\n (-35.7167, 150.1833),\n (54.3, 110.3),\n (5.4112, 100.3354),\n (66.4167, 112.4),\n (43.213, -8.691),\n (65.6145, -37.6368),\n (64.8569, -147.8028),\n (50.35, 90.5),\n (-21.6403, -41.0511),\n (33.3597, 129.5531),\n (63.05, 179.3167),\n (-0.9516, 122.7875),\n (33.7445, -118.387),\n (50.6789, 156.125),\n (8.4509, 98.5298),\n (-8.7676, 160.7034),\n (34.6391, -120.4579),\n (29.0331, 21.5482),\n (-42.7167, 170.9667),\n (63.7506, -68.5145),\n (-41.5333, 146.6667),\n (20.5022, -10.0711),\n (64.9225, 77.785),\n (3.9366, 41.867),\n (-28.783, 32.0377),\n (71.0357, 27.8492),\n (-38.5473, -58.7368),\n (-21.3393, 55.4781),\n (29.1911, 73.2086),\n (-28.7667, 114.6),\n (48.9329, -125.5528),\n (18.7333, -103.6833),\n (60.7522, -137.5108),\n (65.7, 82.4667),\n (-34.7333, 135.8667),\n (-34.0226, 20.4417),\n (16.7833, 94.7333),\n (31.1783, 115.0319),\n (-8.4667, 118.7167),\n (10.5669, 72.642),\n (-9.6567, 120.2641),\n (61.2767, 108.0108),\n (8.9936, -79.5197),\n (6.6221, 73.07),\n (49.758, 129.523),\n (26.1903, 107.5125),\n (71.9667, 102.5),\n (8.3565, 80.4173),\n (1.7427, 98.7792),\n (-11.4386, -61.4472),\n (14.0, -11.0),\n (-11.3847, 43.2844),\n (38.6979, -9.4215),\n (42.2506, -75.833),\n (-20.2333, 164.0167),\n (-23.7, 133.8833),\n (50.1186, -5.5371),\n (-7.9386, 110.2506),\n (-33.6971, -53.4616),\n (60.34, 102.2797),\n (20.785, -156.4656),\n (60.9167, -46.05),\n (59.1167, 159.9667),\n (-3.8004, 102.2655),\n (35.2784, -93.1338),\n (72.7868, -56.1549),\n (-14.6585, 17.691),\n (-21.55, 167.8833),\n (12.5847, -81.7006),\n (70.0513, 24.9718),\n (-4.352, 152.2633),\n (34.1667, 77.5833),\n (66.1451, -65.7125),\n (50.0, 88.6667),\n (54.4299, 31.8996),\n (18.7369, 7.3853),\n (-13.7, -76.2167),\n (67.667, 12.6934),\n (67.45, 153.6833),\n (37.1041, -113.5841),\n (48.8264, 58.1442),\n (32.8333, 66.0),\n (-7.6687, 109.6519),\n (-25.1667, 45.05),\n (-2.5744, 150.7967),\n (47.5833, 126.0833),\n (50.7587, 59.5386),\n (18.9833, 81.4),\n (-34.0033, 24.7314),\n (69.4865, 88.3972),\n (-34.6667, -54.9167),\n (37.7333, -25.6667),\n (36.586, -79.395),\n (28.017, -97.5169),\n (7.7669, -72.225),\n (56.6513, 32.2664),\n (52.8249, 117.3076),\n (6.0367, 80.217),\n (-37.7167, -72.2333),\n (50.2334, -63.5986),\n (10.3854, -9.3057),\n (-2.8, 33.9833),\n (30.0972, -95.6161),\n (56.3444, 114.8794),\n (13.2167, -59.5167),\n (12.1191, 119.8486),\n (11.6581, -70.215),\n (-20.7377, 116.8463),\n (51.226, -58.6502),\n (20.931, -17.0347),\n (-26.6481, 15.1594),\n (-33.7333, -70.75),\n (42.1584, -72.3287),\n (61.9875, 5.1352),\n (-17.7125, -39.2481),\n (10.6167, 104.1833),\n (-9.2, 25.85),\n (-4.2365, 142.8448),\n (50.0833, 132.1667),\n (35.1333, 140.3),\n (66.7697, 123.3711),\n (39.8885, 4.2658),\n (35.2442, 129.2139),\n (14.6833, 77.6),\n (45.0617, -83.4327),\n (46.4333, 26.4),\n (33.7333, 135.9833),\n (30.4833, -115.95),\n (4.1213, 43.8894),\n (25.5198, 90.2201),\n (41.7001, -71.4162),\n (13.35, -15.75),\n (43.3236, 145.575),\n (59.3322, 66.0214),\n (49.5776, 111.9753),\n (45.6297, 41.4023),\n (-34.4342, -57.4381),\n (46.4856, 135.8833),\n (-12.0432, -77.0282),\n (62.1444, 117.6319),\n (64.3833, -173.3),\n (-31.4333, 152.9167),\n (48.0056, 91.6419),\n (-20.4081, 57.7),\n (42.2683, 118.9636),\n (-20.3167, 118.5667),\n (-25.4, -70.4833),\n (24.9056, 67.0822),\n (53.88, 67.4158),\n (15.5667, 108.4833),\n (38.7333, -27.0667),\n (-0.1934, -74.7819),\n (-26.6167, -54.1333),\n (50.6996, -127.4199),\n (8.0667, 122.5167),\n (60.3778, 92.6267),\n (-4.2761, -55.9836),\n (7.0419, 134.2556),\n (-0.8725, 14.8206),\n (-0.9492, 100.3543),\n (39.1502, -123.2078),\n (41.9563, 42.9566),\n (65.75, 150.85),\n (57.0531, -135.33),\n (58.326, 15.1237),\n (14.3188, 2.0866),\n (-31.5375, -68.5364),\n (39.8161, 109.9776),\n (4.9333, -52.3333),\n (43.2128, -75.4557),\n (-41.8697, -73.8203),\n (-8.0089, -34.8553),\n (1.487, 124.8455),\n (-36.6167, -71.8333),\n (44.235, 133.3642),\n (-18.65, -173.9833),\n (-31.2503, -61.4867),\n (49.2167, 143.1167),\n (13.0667, -59.5333),\n (8.8486, 7.8736),\n (3.4836, 103.3996),\n (17.9583, -102.2),\n (41.264, 15.9005),\n (5.3505, 48.5268),\n (50.2001, -66.3821),\n (40.1106, -88.2073),\n (65.5833, -171.0),\n (-6.8367, -79.9342),\n (54.7169, -113.2854),\n (63.2842, 118.3319),\n (42.0551, 59.3788),\n (12.2188, 125.4808),\n (40.1578, -83.0752),\n (22.2769, 113.5678),\n (67.6713, 53.087),\n (-18.5067, -54.76),\n (-26.3667, -70.05),\n (-33.0117, 17.9442),\n (61.9449, 76.6625),\n (28.2211, 61.2158),\n (45.3501, -80.033),\n (-25.2406, 130.9889),\n (50.1018, 136.5094),\n (39.4696, 3.1483),\n (33.6416, 42.8251),\n (-14.7447, -50.5706),\n (-7.3817, 108.2082),\n (-0.8833, 131.25),\n (63.8424, -22.4338),\n (24.8, 125.2833),\n (47.1, 20.15),\n (-41.4122, 175.5153),\n (59.5714, 7.9877),\n (56.8479, 124.9104),\n (13.1969, -88.0544),\n (55.7435, -97.8558),\n (31.4044, 30.4164),\n (32.6667, -17.1),\n (5.9749, 116.0724),\n (66.0449, -17.3389),\n (3.7833, 72.9667),\n (0.5333, 72.9333),\n (51.0333, -4.2167),\n (56.8944, 74.371),\n (-1.5843, 14.2591),\n (39.2048, -84.428),\n (42.0898, -76.8077),\n (31.2089, 16.5887),\n (64.2539, -15.2082),\n (62.2266, -6.589),\n (-5.1989, -35.4608),\n (69.3833, 178.4167),\n (0.1333, 117.5),\n (58.8053, -122.7002),\n (29.7022, 107.3919),\n (42.1859, 127.479),\n (23.45, -110.2167),\n (31.4451, 12.9801),\n (27.9167, 96.1667),\n (65.4167, -52.9),\n (-35.9333, 173.8833),\n (60.8156, -115.7999),\n (31.5169, 75.35),\n (70.4692, -68.5914),\n (44.85, 23.8167),\n (-13.8833, 167.55),\n (69.3143, 16.1194),\n (8.2, -59.7833),\n (61.994, -49.6678),\n (53.9606, 105.8817),\n (48.3833, -4.6167),\n (-15.7667, 128.7333),\n (-1.367, 38.0106),\n (37.2289, 55.3747),\n (46.6806, 113.2792),\n (63.7898, 74.523),\n (44.0167, 87.3167),\n (0.9161, 31.7742),\n (40.6576, -73.5832),\n (22.5455, 114.0683),\n (51.3223, 42.7678),\n (40.1629, -8.3327),\n (51.0629, 36.1343),\n (-22.5361, -55.7256),\n (2.1833, 22.4667),\n (55.1667, 124.7167),\n (51.7522, -1.256),\n (63.7256, 8.834),\n (4.1833, 19.9),\n (67.4667, 86.5833),\n (50.1001, -91.917),\n (43.7444, 135.2892),\n (56.2, 96.53),\n (62.1564, -7.1664),\n (-30.1811, -50.2056),\n (18.4411, 1.4078),\n (38.421, -121.4238),\n (60.0625, 71.4789),\n (11.6667, 92.75),\n (37.7167, -25.4333),\n (15.85, -97.0667),\n (53.0596, 14.2815),\n (11.5221, 13.6856),\n (39.7196, 45.6483),\n (37.04, 66.7889),\n (45.6348, 39.8948),\n (46.6166, 10.7002),\n (16.8634, -99.8901),\n (-17.0231, -72.0147),\n (-39.6333, -72.3333),\n (31.6725, 38.6637),\n (44.6453, -63.5724),\n (64.75, 177.4833),\n (-2.0226, 147.2712),\n (-12.2929, 33.1782),\n (44.1667, 66.75),\n (6.1241, 81.1185),\n (46.3317, 132.2111),\n (18.4167, 75.2),\n (24.3448, 124.1572),\n (56.1201, 101.1636),\n (26.4167, 85.05),\n (17.0151, 54.0924),\n (51.6668, -105.4679),\n (49.8496, -124.5361),\n (52.0712, 84.107),\n (18.8003, 110.3967),\n (-20.2819, -45.5394),\n (-16.5167, -151.75),\n (-14.25, 129.55),\n (64.8378, -147.7164),\n (14.4833, 79.9833),\n (10.9995, 122.6711),\n (32.3502, -85.1999),\n (35.9221, 74.3087),\n (-3.7508, 103.6372),\n (35.1628, 112.865),\n (28.3667, 129.4833),\n (-22.116, 14.2845),\n (-3.6954, 128.1814),\n (12.2306, -1.9289),\n (-25.2986, 152.8535),\n (-10.1256, -36.1756),\n (58.965, -3.296),\n (53.1657, 8.9293),\n (-1.9487, 30.4347),\n (14.4, 46.4667),\n (14.0453, 124.1694),\n (46.6733, 141.8633),\n (4.25, -54.3833),\n (18.2164, 42.5053),\n (-32.3667, -54.1833),\n (-5.0167, 32.8),\n (41.7057, -70.2286),\n (6.4926, 17.4552),\n (-22.9575, 14.5053),\n (-35.1667, 173.1667),\n (-32.173, -64.1141),\n (32.2994, -9.2372),\n (26.2039, 83.9717),\n (2.1837, -73.7849),\n (-1.5746, 9.2618),\n (29.0605, -13.564),\n (52.4201, 136.4853),\n (44.0582, -121.3153),\n (-5.3582, 104.9744),\n (45.2514, 77.9838),\n (61.67, 96.37),\n (36.6177, -121.9166),\n (12.5058, 39.5228),\n (41.1415, -73.3579),\n (17.8815, -76.4093),\n (43.5983, 73.7614),\n (-32.55, 115.7),\n (50.3164, -122.8027),\n (39.2667, 141.8833),\n (-34.4833, -54.3333),\n (63.9242, 127.4739),\n (38.9342, 100.4517),\n (37.2001, -94.3502),\n (32.68, 109.0172),\n (50.5994, 97.5228),\n (17.65, 83.2667),\n (-10.6167, 150.6667),\n (0.7, 108.9),\n (-12.9306, -49.8264),\n (20.8947, -156.47),\n (39.4101, -74.3646),\n (-28.5708, -70.7581),\n (-2.8856, -40.12),\n (49.1667, 0.1667),\n (4.8699, -2.2405),\n (-20.0064, 57.6608),\n (-18.0607, 13.84),\n (17.0818, 122.4157),\n (58.6881, 99.1844),\n (-22.0016, 148.0466),\n (-22.6667, 167.4833),\n (-8.4753, -74.8058),\n (33.5337, -82.1307),\n (34.6592, 109.2292),\n (4.1363, 96.1285),\n (-32.7167, 152.15),\n (32.4674, 14.5687),\n (52.6333, 29.7333),\n (5.3833, -52.95),\n (55.3422, -131.6461),\n (58.3578, 46.3142),\n (65.0083, 53.9113),\n (-8.103, 156.8419),\n (-6.8844, 112.2051),\n (6.2106, 124.1894),\n (45.2333, 147.8833),\n (34.8014, -106.5436),\n (-9.1061, 124.8925),\n (-8.7537, 148.2534),\n (-25.0519, 33.6442),\n (70.9963, 24.6622),\n (50.4457, 117.996),\n (78.2186, 15.6401),\n (-45.5752, -72.0662),\n (-1.5575, 13.2178),\n (23.7, 109.2667),\n (20.8667, -90.4),\n (-17.9333, 19.7667),\n (43.2686, -7.5406),\n (0.8, 127.4),\n (63.9333, 31.65),\n (-2.65, 10.0),\n (59.4511, 112.5578),\n (39.4667, -87.4139),\n (36.0252, -115.2419),\n (39.3176, -74.5946),\n (42.8, 93.45),\n (-6.2111, -40.6944),\n (13.0669, 77.7983),\n (41.7597, 86.1469),\n (-45.1333, 170.1)]"
     },
     "execution_count": 7,
     "metadata": {},
     "output_type": "execute_result"
    }
   ],
   "source": [
    "x = zip(data['Lat'],data['Lng'])\n",
    "oldlist = list(x)\n",
    "oldlist"
   ]
  },
  {
   "cell_type": "markdown",
   "metadata": {},
   "source": [
    "### Humidity Heatmap\n",
    "* Configure gmaps.\n",
    "* Use the Lat and Lng as locations and Humidity as the weight.\n",
    "* Add Heatmap layer to map."
   ]
  },
  {
   "cell_type": "code",
   "execution_count": 19,
   "metadata": {},
   "outputs": [
    {
     "ename": "AttributeError",
     "evalue": "module 'collections' has no attribute 'Iterable'",
     "output_type": "error",
     "traceback": [
      "\u001B[0;31m---------------------------------------------------------------------------\u001B[0m",
      "\u001B[0;31mAttributeError\u001B[0m                            Traceback (most recent call last)",
      "Input \u001B[0;32mIn [19]\u001B[0m, in \u001B[0;36m<cell line: 22>\u001B[0;34m()\u001B[0m\n\u001B[1;32m     19\u001B[0m fig \u001B[38;5;241m=\u001B[39m gmaps\u001B[38;5;241m.\u001B[39mfigure(layout\u001B[38;5;241m=\u001B[39mfigure_layout)\n\u001B[1;32m     21\u001B[0m \u001B[38;5;66;03m# Assign the marker layer to a variable\u001B[39;00m\n\u001B[0;32m---> 22\u001B[0m markers \u001B[38;5;241m=\u001B[39m \u001B[43mgmaps\u001B[49m\u001B[38;5;241;43m.\u001B[39;49m\u001B[43mmarker_layer\u001B[49m\u001B[43m(\u001B[49m\u001B[43mcoordinates\u001B[49m\u001B[43m)\u001B[49m\n\u001B[1;32m     23\u001B[0m \u001B[38;5;66;03m# Add the layer to the map\u001B[39;00m\n\u001B[1;32m     24\u001B[0m fig\u001B[38;5;241m.\u001B[39madd_layer(markers)\n",
      "File \u001B[0;32m~/.conda/envs/BootCamp_University/lib/python3.10/site-packages/gmaps/marker.py:553\u001B[0m, in \u001B[0;36mmarker_layer\u001B[0;34m(locations, hover_text, label, info_box_content, display_info_box)\u001B[0m\n\u001B[1;32m    485\u001B[0m \u001B[38;5;129m@doc_subst\u001B[39m(_doc_snippets)\n\u001B[1;32m    486\u001B[0m \u001B[38;5;28;01mdef\u001B[39;00m \u001B[38;5;21mmarker_layer\u001B[39m(\n\u001B[1;32m    487\u001B[0m         locations, hover_text\u001B[38;5;241m=\u001B[39m\u001B[38;5;124m'\u001B[39m\u001B[38;5;124m'\u001B[39m, label\u001B[38;5;241m=\u001B[39m\u001B[38;5;124m'\u001B[39m\u001B[38;5;124m'\u001B[39m,\n\u001B[1;32m    488\u001B[0m         info_box_content\u001B[38;5;241m=\u001B[39m\u001B[38;5;28;01mNone\u001B[39;00m, display_info_box\u001B[38;5;241m=\u001B[39m\u001B[38;5;28;01mNone\u001B[39;00m):\n\u001B[1;32m    489\u001B[0m     \u001B[38;5;124;03m\"\"\"\u001B[39;00m\n\u001B[1;32m    490\u001B[0m \u001B[38;5;124;03m    Marker layer\u001B[39;00m\n\u001B[1;32m    491\u001B[0m \n\u001B[0;32m   (...)\u001B[0m\n\u001B[1;32m    551\u001B[0m \u001B[38;5;124;03m        A :class:`gmaps.Markers` instance.\u001B[39;00m\n\u001B[1;32m    552\u001B[0m \u001B[38;5;124;03m    \"\"\"\u001B[39;00m\n\u001B[0;32m--> 553\u001B[0m     marker_options \u001B[38;5;241m=\u001B[39m \u001B[43m_marker_layer_options\u001B[49m\u001B[43m(\u001B[49m\n\u001B[1;32m    554\u001B[0m \u001B[43m        \u001B[49m\u001B[43mlocations\u001B[49m\u001B[43m,\u001B[49m\u001B[43m \u001B[49m\u001B[43mhover_text\u001B[49m\u001B[43m,\u001B[49m\u001B[43m \u001B[49m\u001B[43mlabel\u001B[49m\u001B[43m,\u001B[49m\u001B[43m \u001B[49m\u001B[43minfo_box_content\u001B[49m\u001B[43m,\u001B[49m\u001B[43m \u001B[49m\u001B[43mdisplay_info_box\u001B[49m\u001B[43m)\u001B[49m\n\u001B[1;32m    555\u001B[0m     markers \u001B[38;5;241m=\u001B[39m [Marker(\u001B[38;5;241m*\u001B[39m\u001B[38;5;241m*\u001B[39moption) \u001B[38;5;28;01mfor\u001B[39;00m option \u001B[38;5;129;01min\u001B[39;00m marker_options]\n\u001B[1;32m    556\u001B[0m     \u001B[38;5;28;01mreturn\u001B[39;00m Markers(markers\u001B[38;5;241m=\u001B[39mmarkers)\n",
      "File \u001B[0;32m~/.conda/envs/BootCamp_University/lib/python3.10/site-packages/gmaps/marker.py:311\u001B[0m, in \u001B[0;36m_marker_layer_options\u001B[0;34m(locations, hover_text, label, info_box_content, display_info_box)\u001B[0m\n\u001B[1;32m    309\u001B[0m \u001B[38;5;28;01mif\u001B[39;00m is_atomic(label):\n\u001B[1;32m    310\u001B[0m     label \u001B[38;5;241m=\u001B[39m [label] \u001B[38;5;241m*\u001B[39m number_markers\n\u001B[0;32m--> 311\u001B[0m \u001B[38;5;28;01mif\u001B[39;00m \u001B[43mis_atomic\u001B[49m\u001B[43m(\u001B[49m\u001B[43minfo_box_content\u001B[49m\u001B[43m)\u001B[49m:\n\u001B[1;32m    312\u001B[0m     info_box_content \u001B[38;5;241m=\u001B[39m [info_box_content] \u001B[38;5;241m*\u001B[39m number_markers\n\u001B[1;32m    314\u001B[0m marker_options \u001B[38;5;241m=\u001B[39m {\n\u001B[1;32m    315\u001B[0m     \u001B[38;5;124m'\u001B[39m\u001B[38;5;124mlocation\u001B[39m\u001B[38;5;124m'\u001B[39m: locations_to_list(locations),\n\u001B[1;32m    316\u001B[0m     \u001B[38;5;124m'\u001B[39m\u001B[38;5;124mhover_text\u001B[39m\u001B[38;5;124m'\u001B[39m: hover_text,\n\u001B[1;32m    317\u001B[0m     \u001B[38;5;124m'\u001B[39m\u001B[38;5;124mlabel\u001B[39m\u001B[38;5;124m'\u001B[39m: label\n\u001B[1;32m    318\u001B[0m }\n",
      "File \u001B[0;32m~/.conda/envs/BootCamp_University/lib/python3.10/site-packages/gmaps/options.py:40\u001B[0m, in \u001B[0;36mis_atomic\u001B[0;34m(elem)\u001B[0m\n\u001B[1;32m     34\u001B[0m \u001B[38;5;28;01mdef\u001B[39;00m \u001B[38;5;21mis_atomic\u001B[39m(elem):\n\u001B[1;32m     35\u001B[0m     \u001B[38;5;124;03m\"\"\"\u001B[39;00m\n\u001B[1;32m     36\u001B[0m \u001B[38;5;124;03m    True if an element is a single atom and false if it's a collection\u001B[39;00m\n\u001B[1;32m     37\u001B[0m \u001B[38;5;124;03m    \"\"\"\u001B[39;00m\n\u001B[1;32m     38\u001B[0m     \u001B[38;5;28;01mreturn\u001B[39;00m (\n\u001B[1;32m     39\u001B[0m         \u001B[38;5;28misinstance\u001B[39m(elem, string_types) \u001B[38;5;129;01mor\u001B[39;00m\n\u001B[0;32m---> 40\u001B[0m         \u001B[38;5;129;01mnot\u001B[39;00m \u001B[38;5;28misinstance\u001B[39m(elem, \u001B[43mcollections\u001B[49m\u001B[38;5;241;43m.\u001B[39;49m\u001B[43mIterable\u001B[49m)\n\u001B[1;32m     41\u001B[0m     )\n",
      "\u001B[0;31mAttributeError\u001B[0m: module 'collections' has no attribute 'Iterable'"
     ]
    }
   ],
   "source": [
    "gmaps.configure(api_key=g_key)\n",
    "# Create a list containing coordinates\n",
    "coordinates = [\n",
    "    (40.71, -74.00),\n",
    "    (30.26, -97.74),\n",
    "    (46.87, -96.78),\n",
    "    (47.60, -122.33),\n",
    "    (32.71, -117.16)\n",
    "]\n",
    "\n",
    "# Customize the size of the figure\n",
    "figure_layout = {\n",
    "    'width': '400px',\n",
    "    'height': '300px',\n",
    "    'border': '1px solid black',\n",
    "    'padding': '1px',\n",
    "    'margin': '0 auto 0 auto'\n",
    "}\n",
    "fig = gmaps.figure(layout=figure_layout)\n",
    "\n",
    "# Assign the marker layer to a variable\n",
    "markers = gmaps.marker_layer(coordinates)\n",
    "# Add the layer to the map\n",
    "fig.add_layer(markers)\n",
    "fig"
   ]
  },
  {
   "cell_type": "code",
   "execution_count": null,
   "metadata": {},
   "outputs": [],
   "source": []
  },
  {
   "cell_type": "markdown",
   "metadata": {},
   "source": [
    "### Create new DataFrame fitting weather criteria\n",
    "* Narrow down the cities to fit weather conditions.\n",
    "* Drop any rows will null values."
   ]
  },
  {
   "cell_type": "code",
   "execution_count": 17,
   "metadata": {},
   "outputs": [
    {
     "data": {
      "text/plain": "     Unnamed: 0  City_ID          City City Country   City date      Lat  \\\n65           65       66  mount darwin           ZW  1665334434 -16.7725   \n92           92       93        fallon           US  1665334441  39.4735   \n126         126      127      portland           US  1665334334  45.5234   \n134         134      135     opelousas           US  1665334453  30.5335   \n141         141      142  bossier city           US  1665334454  32.5160   \n239         239      240  saint george           US  1665334482  37.1041   \n243         243      244        beloha           MG  1665334483 -25.1667   \n271         271      272          buin           CL  1665334491 -33.7333   \n336         336      337       rafaela           AR  1665334484 -31.2503   \n347         347      348      pimentel           PE  1665334511  -6.8367   \n397         397      398        mizdah           LY  1665334524  31.4451   \n413         413      414     minudasht           IR  1665334528  37.2289   \n450         450      451        turayf           SA  1665334537  31.6725   \n454         454      455       lundazi           ZM  1665334538 -12.2929   \n497         497      498   rio tercero           AR  1665334548 -32.1730   \n556         556      557       xai-xai           MZ  1665334563 -25.0519   \n\n          Lng  Max Temp  Humidity  Cloudiness  Wind Speed  \n65    31.5838     74.64        25           0        4.99  \n92  -118.7774     71.92        24           0        4.61  \n126 -122.6762     70.77        71           0        4.00  \n134  -92.0815     77.88        33           0        6.91  \n141  -93.7321     76.68        43           0        6.91  \n239 -113.5841     75.43        35           0        5.75  \n243   45.0500     75.40        62           0        5.86  \n271  -70.7500     77.86        20           0        3.20  \n336  -61.4867     72.00         6           0        1.99  \n347  -79.9342     70.09        64           0        8.05  \n397   12.9801     75.63        29           0        3.44  \n413   55.3747     74.77        46           0        0.00  \n450   38.6637     75.45        46           0        9.22  \n454   33.1782     70.63        32           0        6.02  \n497  -64.1141     70.45        11           0        6.73  \n556   33.6442     79.79        63           0        9.06  ",
      "text/html": "<div>\n<style scoped>\n    .dataframe tbody tr th:only-of-type {\n        vertical-align: middle;\n    }\n\n    .dataframe tbody tr th {\n        vertical-align: top;\n    }\n\n    .dataframe thead th {\n        text-align: right;\n    }\n</style>\n<table border=\"1\" class=\"dataframe\">\n  <thead>\n    <tr style=\"text-align: right;\">\n      <th></th>\n      <th>Unnamed: 0</th>\n      <th>City_ID</th>\n      <th>City</th>\n      <th>City Country</th>\n      <th>City date</th>\n      <th>Lat</th>\n      <th>Lng</th>\n      <th>Max Temp</th>\n      <th>Humidity</th>\n      <th>Cloudiness</th>\n      <th>Wind Speed</th>\n    </tr>\n  </thead>\n  <tbody>\n    <tr>\n      <th>65</th>\n      <td>65</td>\n      <td>66</td>\n      <td>mount darwin</td>\n      <td>ZW</td>\n      <td>1665334434</td>\n      <td>-16.7725</td>\n      <td>31.5838</td>\n      <td>74.64</td>\n      <td>25</td>\n      <td>0</td>\n      <td>4.99</td>\n    </tr>\n    <tr>\n      <th>92</th>\n      <td>92</td>\n      <td>93</td>\n      <td>fallon</td>\n      <td>US</td>\n      <td>1665334441</td>\n      <td>39.4735</td>\n      <td>-118.7774</td>\n      <td>71.92</td>\n      <td>24</td>\n      <td>0</td>\n      <td>4.61</td>\n    </tr>\n    <tr>\n      <th>126</th>\n      <td>126</td>\n      <td>127</td>\n      <td>portland</td>\n      <td>US</td>\n      <td>1665334334</td>\n      <td>45.5234</td>\n      <td>-122.6762</td>\n      <td>70.77</td>\n      <td>71</td>\n      <td>0</td>\n      <td>4.00</td>\n    </tr>\n    <tr>\n      <th>134</th>\n      <td>134</td>\n      <td>135</td>\n      <td>opelousas</td>\n      <td>US</td>\n      <td>1665334453</td>\n      <td>30.5335</td>\n      <td>-92.0815</td>\n      <td>77.88</td>\n      <td>33</td>\n      <td>0</td>\n      <td>6.91</td>\n    </tr>\n    <tr>\n      <th>141</th>\n      <td>141</td>\n      <td>142</td>\n      <td>bossier city</td>\n      <td>US</td>\n      <td>1665334454</td>\n      <td>32.5160</td>\n      <td>-93.7321</td>\n      <td>76.68</td>\n      <td>43</td>\n      <td>0</td>\n      <td>6.91</td>\n    </tr>\n    <tr>\n      <th>239</th>\n      <td>239</td>\n      <td>240</td>\n      <td>saint george</td>\n      <td>US</td>\n      <td>1665334482</td>\n      <td>37.1041</td>\n      <td>-113.5841</td>\n      <td>75.43</td>\n      <td>35</td>\n      <td>0</td>\n      <td>5.75</td>\n    </tr>\n    <tr>\n      <th>243</th>\n      <td>243</td>\n      <td>244</td>\n      <td>beloha</td>\n      <td>MG</td>\n      <td>1665334483</td>\n      <td>-25.1667</td>\n      <td>45.0500</td>\n      <td>75.40</td>\n      <td>62</td>\n      <td>0</td>\n      <td>5.86</td>\n    </tr>\n    <tr>\n      <th>271</th>\n      <td>271</td>\n      <td>272</td>\n      <td>buin</td>\n      <td>CL</td>\n      <td>1665334491</td>\n      <td>-33.7333</td>\n      <td>-70.7500</td>\n      <td>77.86</td>\n      <td>20</td>\n      <td>0</td>\n      <td>3.20</td>\n    </tr>\n    <tr>\n      <th>336</th>\n      <td>336</td>\n      <td>337</td>\n      <td>rafaela</td>\n      <td>AR</td>\n      <td>1665334484</td>\n      <td>-31.2503</td>\n      <td>-61.4867</td>\n      <td>72.00</td>\n      <td>6</td>\n      <td>0</td>\n      <td>1.99</td>\n    </tr>\n    <tr>\n      <th>347</th>\n      <td>347</td>\n      <td>348</td>\n      <td>pimentel</td>\n      <td>PE</td>\n      <td>1665334511</td>\n      <td>-6.8367</td>\n      <td>-79.9342</td>\n      <td>70.09</td>\n      <td>64</td>\n      <td>0</td>\n      <td>8.05</td>\n    </tr>\n    <tr>\n      <th>397</th>\n      <td>397</td>\n      <td>398</td>\n      <td>mizdah</td>\n      <td>LY</td>\n      <td>1665334524</td>\n      <td>31.4451</td>\n      <td>12.9801</td>\n      <td>75.63</td>\n      <td>29</td>\n      <td>0</td>\n      <td>3.44</td>\n    </tr>\n    <tr>\n      <th>413</th>\n      <td>413</td>\n      <td>414</td>\n      <td>minudasht</td>\n      <td>IR</td>\n      <td>1665334528</td>\n      <td>37.2289</td>\n      <td>55.3747</td>\n      <td>74.77</td>\n      <td>46</td>\n      <td>0</td>\n      <td>0.00</td>\n    </tr>\n    <tr>\n      <th>450</th>\n      <td>450</td>\n      <td>451</td>\n      <td>turayf</td>\n      <td>SA</td>\n      <td>1665334537</td>\n      <td>31.6725</td>\n      <td>38.6637</td>\n      <td>75.45</td>\n      <td>46</td>\n      <td>0</td>\n      <td>9.22</td>\n    </tr>\n    <tr>\n      <th>454</th>\n      <td>454</td>\n      <td>455</td>\n      <td>lundazi</td>\n      <td>ZM</td>\n      <td>1665334538</td>\n      <td>-12.2929</td>\n      <td>33.1782</td>\n      <td>70.63</td>\n      <td>32</td>\n      <td>0</td>\n      <td>6.02</td>\n    </tr>\n    <tr>\n      <th>497</th>\n      <td>497</td>\n      <td>498</td>\n      <td>rio tercero</td>\n      <td>AR</td>\n      <td>1665334548</td>\n      <td>-32.1730</td>\n      <td>-64.1141</td>\n      <td>70.45</td>\n      <td>11</td>\n      <td>0</td>\n      <td>6.73</td>\n    </tr>\n    <tr>\n      <th>556</th>\n      <td>556</td>\n      <td>557</td>\n      <td>xai-xai</td>\n      <td>MZ</td>\n      <td>1665334563</td>\n      <td>-25.0519</td>\n      <td>33.6442</td>\n      <td>79.79</td>\n      <td>63</td>\n      <td>0</td>\n      <td>9.06</td>\n    </tr>\n  </tbody>\n</table>\n</div>"
     },
     "execution_count": 17,
     "metadata": {},
     "output_type": "execute_result"
    }
   ],
   "source": [
    "# # narrow DataFrame\n",
    "Newdata = data.loc[(data['Max Temp'] <= 80) & (data['Max Temp'] > 70) & (data['Wind Speed']<10) & (data[\"Cloudiness\"]==0)]\n",
    "Newdata"
   ]
  },
  {
   "cell_type": "markdown",
   "metadata": {},
   "source": [
    "### Hotel Map\n",
    "* Store into variable named `hotel_df`.\n",
    "* Add a \"Hotel Name\" column to the DataFrame.\n",
    "* Set parameters to search for hotels with 5000 meters.\n",
    "* Hit the Google Places API for each city's coordinates.\n",
    "* Store the first Hotel result into the DataFrame.\n",
    "* Plot markers on top of the heatmap."
   ]
  },
  {
   "cell_type": "code",
   "execution_count": null,
   "metadata": {},
   "outputs": [],
   "source": [
    "# Create new plot\n",
    "# create a heatmap based on the csv\n",
    "gmaps.configure(api_key=g_key)\n",
    "\n",
    "fig = gmaps.figure(map_type='SATELLITE')\n",
    "\n",
    "# generate some (latitude, longitude) pairs\n",
    "locations = Newdata\n",
    "\n",
    "fig = gmaps.figure()\n",
    "fig.add_layer(gmaps.heatmap_layer(locations))\n",
    "fig"
   ]
  },
  {
   "cell_type": "code",
   "execution_count": null,
   "metadata": {},
   "outputs": [],
   "source": []
  },
  {
   "cell_type": "code",
   "execution_count": null,
   "metadata": {},
   "outputs": [],
   "source": [
    "# NOTE: Do not change any of the code in this cell\n",
    "\n",
    "# Using the template add the hotel marks to the heatmap\n",
    "info_box_template = \"\"\"\n",
    "<dl>\n",
    "<dt>Name</dt><dd>{Hotel Name}</dd>\n",
    "<dt>City</dt><dd>{City}</dd>\n",
    "<dt>Country</dt><dd>{Country}</dd>\n",
    "</dl>\n",
    "\"\"\"\n",
    "# Store the DataFrame Row\n",
    "# NOTE: be sure to update with your DataFrame name\n",
    "# hotel_info = [info_box_template.format(**row) for index, row in hotel_df.iterrows()]\n",
    "# locations = hotel_df[[\"Lat\", \"Lng\"]]"
   ]
  },
  {
   "cell_type": "code",
   "execution_count": null,
   "metadata": {},
   "outputs": [],
   "source": [
    "# Add marker layer ontop of heat map\n",
    "\n",
    "\n",
    "# Display figure\n"
   ]
  },
  {
   "cell_type": "code",
   "execution_count": null,
   "metadata": {},
   "outputs": [],
   "source": []
  }
 ],
 "metadata": {
  "kernelspec": {
   "display_name": "Python 3 (ipykernel)",
   "language": "python",
   "name": "python3"
  },
  "language_info": {
   "codemirror_mode": {
    "name": "ipython",
    "version": 3
   },
   "file_extension": ".py",
   "mimetype": "text/x-python",
   "name": "python",
   "nbconvert_exporter": "python",
   "pygments_lexer": "ipython3",
   "version": "3.10.4"
  },
  "latex_envs": {
   "LaTeX_envs_menu_present": true,
   "autoclose": false,
   "autocomplete": true,
   "bibliofile": "biblio.bib",
   "cite_by": "apalike",
   "current_citInitial": 1,
   "eqLabelWithNumbers": true,
   "eqNumInitial": 1,
   "hotkeys": {
    "equation": "Ctrl-E",
    "itemize": "Ctrl-I"
   },
   "labels_anchors": false,
   "latex_user_defs": false,
   "report_style_numbering": false,
   "user_envs_cfg": false
  },
  "vscode": {
   "interpreter": {
    "hash": "fb82471663e35ca526bd07846db32481c3db2e5d8b294e31c33dd86ee3780031"
   }
  }
 },
 "nbformat": 4,
 "nbformat_minor": 4
}
