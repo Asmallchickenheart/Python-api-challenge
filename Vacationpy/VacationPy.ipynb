{
 "cells": [
  {
   "cell_type": "markdown",
   "metadata": {},
   "source": [
    "# VacationPy\n",
    "----\n",
    "\n",
    "#### Note\n",
    "* Keep an eye on your API usage. Use https://developers.google.com/maps/reporting/gmp-reporting as reference for how to monitor your usage and billing.\n",
    "\n",
    "* Instructions have been included for each segment. You do not have to follow them exactly, but they are included to help you think through the steps."
   ]
  },
  {
   "cell_type": "code",
   "execution_count": 20,
   "metadata": {},
   "outputs": [],
   "source": [
    "# Dependencies and Setup\n",
    "import matplotlib.pyplot as plt\n",
    "import pandas as pd\n",
    "import numpy as np\n",
    "import requests\n",
    "import gmaps\n",
    "import gmaps.datasets\n",
    "import os\n",
    "import csv\n",
    "import json\n",
    "#\n",
    "# import API key\n",
    "from api_keys import g_key\n",
    "\n",
    "import requests\n",
    "\n",
    "\n"
   ]
  },
  {
   "cell_type": "markdown",
   "metadata": {},
   "source": [
    "### Store Part I results into DataFrame\n",
    "* Load the csv exported in Part I to a DataFrame"
   ]
  },
  {
   "cell_type": "code",
   "execution_count": 21,
   "metadata": {},
   "outputs": [
    {
     "data": {
      "text/plain": "     Unnamed: 0  City_ID       City City Country   City date      Lat  \\\n0             0        1  mount isa           AU  1665334419 -20.7333   \n1             1        2    rikitea           PF  1665334419 -23.1203   \n2             2        3  ostrovnoy           RU  1665334419  68.0531   \n3             3        4    vierzon           FR  1665334419  47.2101   \n4             4        5   nhamunda           BR  1665334420  -2.1861   \n..          ...      ...        ...          ...         ...      ...   \n573         573      574       hami           CN  1665334566  42.8000   \n574         574      575    parambu           BR  1665334567  -6.2111   \n575         575      576    hoskote           IN  1665334567  13.0669   \n576         576      577      korla           CN  1665334568  41.7597   \n577         577      578   ranfurly           NZ  1665334568 -45.1333   \n\n          Lng  Max Temp  Humidity  Cloudiness  Wind Speed  \n0    139.5000     67.77        21           0       11.50  \n1   -134.9692     71.46        69          10       17.29  \n2     39.5131     41.61        79          76       16.28  \n3      2.0625     68.38        56           1        4.50  \n4    -56.7131    104.90        19          84        7.09  \n..        ...       ...       ...         ...         ...  \n573   93.4500     54.84        15          43        3.78  \n574  -40.6944     97.61        16           6       11.61  \n575   77.7983     71.62       100          75        4.61  \n576   86.1469     59.41        26           0        3.51  \n577  170.1000     45.10        76          76        5.48  \n\n[578 rows x 11 columns]",
      "text/html": "<div>\n<style scoped>\n    .dataframe tbody tr th:only-of-type {\n        vertical-align: middle;\n    }\n\n    .dataframe tbody tr th {\n        vertical-align: top;\n    }\n\n    .dataframe thead th {\n        text-align: right;\n    }\n</style>\n<table border=\"1\" class=\"dataframe\">\n  <thead>\n    <tr style=\"text-align: right;\">\n      <th></th>\n      <th>Unnamed: 0</th>\n      <th>City_ID</th>\n      <th>City</th>\n      <th>City Country</th>\n      <th>City date</th>\n      <th>Lat</th>\n      <th>Lng</th>\n      <th>Max Temp</th>\n      <th>Humidity</th>\n      <th>Cloudiness</th>\n      <th>Wind Speed</th>\n    </tr>\n  </thead>\n  <tbody>\n    <tr>\n      <th>0</th>\n      <td>0</td>\n      <td>1</td>\n      <td>mount isa</td>\n      <td>AU</td>\n      <td>1665334419</td>\n      <td>-20.7333</td>\n      <td>139.5000</td>\n      <td>67.77</td>\n      <td>21</td>\n      <td>0</td>\n      <td>11.50</td>\n    </tr>\n    <tr>\n      <th>1</th>\n      <td>1</td>\n      <td>2</td>\n      <td>rikitea</td>\n      <td>PF</td>\n      <td>1665334419</td>\n      <td>-23.1203</td>\n      <td>-134.9692</td>\n      <td>71.46</td>\n      <td>69</td>\n      <td>10</td>\n      <td>17.29</td>\n    </tr>\n    <tr>\n      <th>2</th>\n      <td>2</td>\n      <td>3</td>\n      <td>ostrovnoy</td>\n      <td>RU</td>\n      <td>1665334419</td>\n      <td>68.0531</td>\n      <td>39.5131</td>\n      <td>41.61</td>\n      <td>79</td>\n      <td>76</td>\n      <td>16.28</td>\n    </tr>\n    <tr>\n      <th>3</th>\n      <td>3</td>\n      <td>4</td>\n      <td>vierzon</td>\n      <td>FR</td>\n      <td>1665334419</td>\n      <td>47.2101</td>\n      <td>2.0625</td>\n      <td>68.38</td>\n      <td>56</td>\n      <td>1</td>\n      <td>4.50</td>\n    </tr>\n    <tr>\n      <th>4</th>\n      <td>4</td>\n      <td>5</td>\n      <td>nhamunda</td>\n      <td>BR</td>\n      <td>1665334420</td>\n      <td>-2.1861</td>\n      <td>-56.7131</td>\n      <td>104.90</td>\n      <td>19</td>\n      <td>84</td>\n      <td>7.09</td>\n    </tr>\n    <tr>\n      <th>...</th>\n      <td>...</td>\n      <td>...</td>\n      <td>...</td>\n      <td>...</td>\n      <td>...</td>\n      <td>...</td>\n      <td>...</td>\n      <td>...</td>\n      <td>...</td>\n      <td>...</td>\n      <td>...</td>\n    </tr>\n    <tr>\n      <th>573</th>\n      <td>573</td>\n      <td>574</td>\n      <td>hami</td>\n      <td>CN</td>\n      <td>1665334566</td>\n      <td>42.8000</td>\n      <td>93.4500</td>\n      <td>54.84</td>\n      <td>15</td>\n      <td>43</td>\n      <td>3.78</td>\n    </tr>\n    <tr>\n      <th>574</th>\n      <td>574</td>\n      <td>575</td>\n      <td>parambu</td>\n      <td>BR</td>\n      <td>1665334567</td>\n      <td>-6.2111</td>\n      <td>-40.6944</td>\n      <td>97.61</td>\n      <td>16</td>\n      <td>6</td>\n      <td>11.61</td>\n    </tr>\n    <tr>\n      <th>575</th>\n      <td>575</td>\n      <td>576</td>\n      <td>hoskote</td>\n      <td>IN</td>\n      <td>1665334567</td>\n      <td>13.0669</td>\n      <td>77.7983</td>\n      <td>71.62</td>\n      <td>100</td>\n      <td>75</td>\n      <td>4.61</td>\n    </tr>\n    <tr>\n      <th>576</th>\n      <td>576</td>\n      <td>577</td>\n      <td>korla</td>\n      <td>CN</td>\n      <td>1665334568</td>\n      <td>41.7597</td>\n      <td>86.1469</td>\n      <td>59.41</td>\n      <td>26</td>\n      <td>0</td>\n      <td>3.51</td>\n    </tr>\n    <tr>\n      <th>577</th>\n      <td>577</td>\n      <td>578</td>\n      <td>ranfurly</td>\n      <td>NZ</td>\n      <td>1665334568</td>\n      <td>-45.1333</td>\n      <td>170.1000</td>\n      <td>45.10</td>\n      <td>76</td>\n      <td>76</td>\n      <td>5.48</td>\n    </tr>\n  </tbody>\n</table>\n<p>578 rows × 11 columns</p>\n</div>"
     },
     "execution_count": 21,
     "metadata": {},
     "output_type": "execute_result"
    }
   ],
   "source": [
    "# load the csv, old data\n",
    "data = pd.read_csv(\"/Users/siyuanliang/BootCamp_University/Python-api-challenge/WeatherPy/Whether.csv\")\n",
    "data\n"
   ]
  },
  {
   "cell_type": "markdown",
   "metadata": {},
   "source": [
    "### Humidity Heatmap\n",
    "* Configure gmaps.\n",
    "* Use the Lat and Lng as locations and Humidity as the weight.\n",
    "* Add Heatmap layer to map."
   ]
  },
  {
   "cell_type": "code",
   "execution_count": 22,
   "metadata": {},
   "outputs": [
    {
     "data": {
      "text/plain": "Figure(layout=FigureLayout(border='1px solid black', height='600px', margin='0 auto 0 auto', padding='1px', wi…",
      "application/vnd.jupyter.widget-view+json": {
       "version_major": 2,
       "version_minor": 0,
       "model_id": "8b6a1288ddab415ca02235f63612a2ae"
      }
     },
     "metadata": {},
     "output_type": "display_data"
    }
   ],
   "source": [
    "gmaps.configure(api_key=g_key)\n",
    "# Create a list containing coordinates\n",
    "locations = data[[\"Lat\", \"Lng\"]]\n",
    "humidity = data[\"Humidity\"]\n",
    "\n",
    "# Customize the size of the figure\n",
    "figure_layout = {\n",
    "    'width': '800px',\n",
    "    'height': '600px',\n",
    "    'border': '1px solid black',\n",
    "    'padding': '1px',\n",
    "    'margin': '0 auto 0 auto'\n",
    "}\n",
    "fig = gmaps.figure(layout=figure_layout, center=(55.0, -1.0), zoom_level=5)\n",
    "\n",
    "# Use the Lat and Lng as locations and Humidity as the weight.\n",
    "# Add the weighted heat map layer to the map\n",
    "fig.add_layer(gmaps.heatmap_layer(locations, weights=humidity, max_intensity=100))\n",
    "\n",
    "fig"
   ]
  },
  {
   "cell_type": "code",
   "execution_count": 22,
   "metadata": {},
   "outputs": [],
   "source": []
  },
  {
   "cell_type": "markdown",
   "metadata": {},
   "source": [
    "### Create new DataFrame fitting weather criteria\n",
    "* Narrow down the cities to fit weather conditions.\n",
    "* Drop any rows will null values."
   ]
  },
  {
   "cell_type": "code",
   "execution_count": 23,
   "metadata": {},
   "outputs": [
    {
     "data": {
      "text/plain": "     Unnamed: 0  City_ID          City City Country   City date      Lat  \\\n65           65       66  mount darwin           ZW  1665334434 -16.7725   \n92           92       93        fallon           US  1665334441  39.4735   \n126         126      127      portland           US  1665334334  45.5234   \n134         134      135     opelousas           US  1665334453  30.5335   \n141         141      142  bossier city           US  1665334454  32.5160   \n239         239      240  saint george           US  1665334482  37.1041   \n243         243      244        beloha           MG  1665334483 -25.1667   \n271         271      272          buin           CL  1665334491 -33.7333   \n336         336      337       rafaela           AR  1665334484 -31.2503   \n347         347      348      pimentel           PE  1665334511  -6.8367   \n397         397      398        mizdah           LY  1665334524  31.4451   \n413         413      414     minudasht           IR  1665334528  37.2289   \n450         450      451        turayf           SA  1665334537  31.6725   \n454         454      455       lundazi           ZM  1665334538 -12.2929   \n497         497      498   rio tercero           AR  1665334548 -32.1730   \n556         556      557       xai-xai           MZ  1665334563 -25.0519   \n\n          Lng  Max Temp  Humidity  Cloudiness  Wind Speed  \n65    31.5838     74.64        25           0        4.99  \n92  -118.7774     71.92        24           0        4.61  \n126 -122.6762     70.77        71           0        4.00  \n134  -92.0815     77.88        33           0        6.91  \n141  -93.7321     76.68        43           0        6.91  \n239 -113.5841     75.43        35           0        5.75  \n243   45.0500     75.40        62           0        5.86  \n271  -70.7500     77.86        20           0        3.20  \n336  -61.4867     72.00         6           0        1.99  \n347  -79.9342     70.09        64           0        8.05  \n397   12.9801     75.63        29           0        3.44  \n413   55.3747     74.77        46           0        0.00  \n450   38.6637     75.45        46           0        9.22  \n454   33.1782     70.63        32           0        6.02  \n497  -64.1141     70.45        11           0        6.73  \n556   33.6442     79.79        63           0        9.06  ",
      "text/html": "<div>\n<style scoped>\n    .dataframe tbody tr th:only-of-type {\n        vertical-align: middle;\n    }\n\n    .dataframe tbody tr th {\n        vertical-align: top;\n    }\n\n    .dataframe thead th {\n        text-align: right;\n    }\n</style>\n<table border=\"1\" class=\"dataframe\">\n  <thead>\n    <tr style=\"text-align: right;\">\n      <th></th>\n      <th>Unnamed: 0</th>\n      <th>City_ID</th>\n      <th>City</th>\n      <th>City Country</th>\n      <th>City date</th>\n      <th>Lat</th>\n      <th>Lng</th>\n      <th>Max Temp</th>\n      <th>Humidity</th>\n      <th>Cloudiness</th>\n      <th>Wind Speed</th>\n    </tr>\n  </thead>\n  <tbody>\n    <tr>\n      <th>65</th>\n      <td>65</td>\n      <td>66</td>\n      <td>mount darwin</td>\n      <td>ZW</td>\n      <td>1665334434</td>\n      <td>-16.7725</td>\n      <td>31.5838</td>\n      <td>74.64</td>\n      <td>25</td>\n      <td>0</td>\n      <td>4.99</td>\n    </tr>\n    <tr>\n      <th>92</th>\n      <td>92</td>\n      <td>93</td>\n      <td>fallon</td>\n      <td>US</td>\n      <td>1665334441</td>\n      <td>39.4735</td>\n      <td>-118.7774</td>\n      <td>71.92</td>\n      <td>24</td>\n      <td>0</td>\n      <td>4.61</td>\n    </tr>\n    <tr>\n      <th>126</th>\n      <td>126</td>\n      <td>127</td>\n      <td>portland</td>\n      <td>US</td>\n      <td>1665334334</td>\n      <td>45.5234</td>\n      <td>-122.6762</td>\n      <td>70.77</td>\n      <td>71</td>\n      <td>0</td>\n      <td>4.00</td>\n    </tr>\n    <tr>\n      <th>134</th>\n      <td>134</td>\n      <td>135</td>\n      <td>opelousas</td>\n      <td>US</td>\n      <td>1665334453</td>\n      <td>30.5335</td>\n      <td>-92.0815</td>\n      <td>77.88</td>\n      <td>33</td>\n      <td>0</td>\n      <td>6.91</td>\n    </tr>\n    <tr>\n      <th>141</th>\n      <td>141</td>\n      <td>142</td>\n      <td>bossier city</td>\n      <td>US</td>\n      <td>1665334454</td>\n      <td>32.5160</td>\n      <td>-93.7321</td>\n      <td>76.68</td>\n      <td>43</td>\n      <td>0</td>\n      <td>6.91</td>\n    </tr>\n    <tr>\n      <th>239</th>\n      <td>239</td>\n      <td>240</td>\n      <td>saint george</td>\n      <td>US</td>\n      <td>1665334482</td>\n      <td>37.1041</td>\n      <td>-113.5841</td>\n      <td>75.43</td>\n      <td>35</td>\n      <td>0</td>\n      <td>5.75</td>\n    </tr>\n    <tr>\n      <th>243</th>\n      <td>243</td>\n      <td>244</td>\n      <td>beloha</td>\n      <td>MG</td>\n      <td>1665334483</td>\n      <td>-25.1667</td>\n      <td>45.0500</td>\n      <td>75.40</td>\n      <td>62</td>\n      <td>0</td>\n      <td>5.86</td>\n    </tr>\n    <tr>\n      <th>271</th>\n      <td>271</td>\n      <td>272</td>\n      <td>buin</td>\n      <td>CL</td>\n      <td>1665334491</td>\n      <td>-33.7333</td>\n      <td>-70.7500</td>\n      <td>77.86</td>\n      <td>20</td>\n      <td>0</td>\n      <td>3.20</td>\n    </tr>\n    <tr>\n      <th>336</th>\n      <td>336</td>\n      <td>337</td>\n      <td>rafaela</td>\n      <td>AR</td>\n      <td>1665334484</td>\n      <td>-31.2503</td>\n      <td>-61.4867</td>\n      <td>72.00</td>\n      <td>6</td>\n      <td>0</td>\n      <td>1.99</td>\n    </tr>\n    <tr>\n      <th>347</th>\n      <td>347</td>\n      <td>348</td>\n      <td>pimentel</td>\n      <td>PE</td>\n      <td>1665334511</td>\n      <td>-6.8367</td>\n      <td>-79.9342</td>\n      <td>70.09</td>\n      <td>64</td>\n      <td>0</td>\n      <td>8.05</td>\n    </tr>\n    <tr>\n      <th>397</th>\n      <td>397</td>\n      <td>398</td>\n      <td>mizdah</td>\n      <td>LY</td>\n      <td>1665334524</td>\n      <td>31.4451</td>\n      <td>12.9801</td>\n      <td>75.63</td>\n      <td>29</td>\n      <td>0</td>\n      <td>3.44</td>\n    </tr>\n    <tr>\n      <th>413</th>\n      <td>413</td>\n      <td>414</td>\n      <td>minudasht</td>\n      <td>IR</td>\n      <td>1665334528</td>\n      <td>37.2289</td>\n      <td>55.3747</td>\n      <td>74.77</td>\n      <td>46</td>\n      <td>0</td>\n      <td>0.00</td>\n    </tr>\n    <tr>\n      <th>450</th>\n      <td>450</td>\n      <td>451</td>\n      <td>turayf</td>\n      <td>SA</td>\n      <td>1665334537</td>\n      <td>31.6725</td>\n      <td>38.6637</td>\n      <td>75.45</td>\n      <td>46</td>\n      <td>0</td>\n      <td>9.22</td>\n    </tr>\n    <tr>\n      <th>454</th>\n      <td>454</td>\n      <td>455</td>\n      <td>lundazi</td>\n      <td>ZM</td>\n      <td>1665334538</td>\n      <td>-12.2929</td>\n      <td>33.1782</td>\n      <td>70.63</td>\n      <td>32</td>\n      <td>0</td>\n      <td>6.02</td>\n    </tr>\n    <tr>\n      <th>497</th>\n      <td>497</td>\n      <td>498</td>\n      <td>rio tercero</td>\n      <td>AR</td>\n      <td>1665334548</td>\n      <td>-32.1730</td>\n      <td>-64.1141</td>\n      <td>70.45</td>\n      <td>11</td>\n      <td>0</td>\n      <td>6.73</td>\n    </tr>\n    <tr>\n      <th>556</th>\n      <td>556</td>\n      <td>557</td>\n      <td>xai-xai</td>\n      <td>MZ</td>\n      <td>1665334563</td>\n      <td>-25.0519</td>\n      <td>33.6442</td>\n      <td>79.79</td>\n      <td>63</td>\n      <td>0</td>\n      <td>9.06</td>\n    </tr>\n  </tbody>\n</table>\n</div>"
     },
     "execution_count": 23,
     "metadata": {},
     "output_type": "execute_result"
    }
   ],
   "source": [
    "#  narrow DataFrame\n",
    "Newdata = data.loc[(data['Max Temp'] <= 80) & (data['Max Temp'] > 70) & (data['Wind Speed']<10) & (data[\"Cloudiness\"]==0)]\n",
    "Newdata"
   ]
  },
  {
   "cell_type": "markdown",
   "metadata": {},
   "source": [
    "### Hotel Map\n",
    "* Store into variable named `hotel_df`.\n",
    "* Add a \"Hotel Name\" column to the DataFrame.\n",
    "* Set parameters to search for hotels with 5000 meters.\n",
    "* Hit the Google Places API for each city's coordinates.\n",
    "* Store the first Hotel result into the DataFrame.\n",
    "* Plot markers on top of the heatmap."
   ]
  },
  {
   "cell_type": "code",
   "execution_count": 24,
   "outputs": [
    {
     "data": {
      "text/plain": "Figure(layout=FigureLayout(height='420px'))",
      "application/vnd.jupyter.widget-view+json": {
       "version_major": 2,
       "version_minor": 0,
       "model_id": "cadd4bcda6924275b1ad47c348a3367e"
      }
     },
     "metadata": {},
     "output_type": "display_data"
    }
   ],
   "source": [
    "# Create new plot\n",
    "# create a heatmap based on the csv\n",
    "\n",
    "\n",
    "# generate some (latitude, longitude) pairs\n",
    "fig_hotel_humidity = gmaps.figure()\n",
    "fig_hotel_humidity.add_layer(gmaps.heatmap_layer(Newdata[[\"Lat\", \"Lng\"]], weights=Newdata[\"Humidity\"], max_intensity=100))\n",
    "fig_hotel_humidity"
   ],
   "metadata": {
    "collapsed": false
   }
  },
  {
   "cell_type": "code",
   "execution_count": 25,
   "metadata": {},
   "outputs": [
    {
     "name": "stdout",
     "output_type": "stream",
     "text": [
      "Retrieving Results for Index 65: mount darwin.\n"
     ]
    },
    {
     "name": "stderr",
     "output_type": "stream",
     "text": [
      "/var/folders/t0/trftcgf923z_mljxn6xk43hw0000gn/T/ipykernel_49108/2877025347.py:50: SettingWithCopyWarning: \n",
      "A value is trying to be set on a copy of a slice from a DataFrame.\n",
      "Try using .loc[row_indexer,col_indexer] = value instead\n",
      "\n",
      "See the caveats in the documentation: https://pandas.pydata.org/pandas-docs/stable/user_guide/indexing.html#returning-a-view-versus-a-copy\n",
      "  Newdata.loc[index, 'Hotel Name'] = \"\"\n",
      "/var/folders/t0/trftcgf923z_mljxn6xk43hw0000gn/T/ipykernel_49108/2877025347.py:51: SettingWithCopyWarning: \n",
      "A value is trying to be set on a copy of a slice from a DataFrame.\n",
      "Try using .loc[row_indexer,col_indexer] = value instead\n",
      "\n",
      "See the caveats in the documentation: https://pandas.pydata.org/pandas-docs/stable/user_guide/indexing.html#returning-a-view-versus-a-copy\n",
      "  Newdata.loc[index, 'Hotel Lat'] = \"\"\n",
      "/var/folders/t0/trftcgf923z_mljxn6xk43hw0000gn/T/ipykernel_49108/2877025347.py:52: SettingWithCopyWarning: \n",
      "A value is trying to be set on a copy of a slice from a DataFrame.\n",
      "Try using .loc[row_indexer,col_indexer] = value instead\n",
      "\n",
      "See the caveats in the documentation: https://pandas.pydata.org/pandas-docs/stable/user_guide/indexing.html#returning-a-view-versus-a-copy\n",
      "  Newdata.loc[index, 'Hotel Lng'] = \"\"\n"
     ]
    },
    {
     "name": "stdout",
     "output_type": "stream",
     "text": [
      "Missing field/result... skipping.\n",
      "------------\n",
      "Retrieving Results for Index 92: fallon.\n",
      "First hotel in fallon is Best Western Fallon Inn & Suites.\n",
      "------------\n",
      "Retrieving Results for Index 126: portland.\n",
      "First hotel in portland is Embassy Suites by Hilton Portland Downtown.\n",
      "------------\n",
      "Retrieving Results for Index 134: opelousas.\n",
      "First hotel in opelousas is Holiday Inn Express & Suites Opelousas, an IHG Hotel.\n",
      "------------\n",
      "Retrieving Results for Index 141: bossier city.\n",
      "First hotel in bossier city is Horseshoe Bossier City.\n",
      "------------\n",
      "Retrieving Results for Index 239: saint george.\n",
      "First hotel in saint george is Best Western Plus Abbey Inn.\n",
      "------------\n",
      "Retrieving Results for Index 243: beloha.\n",
      "Missing field/result... skipping.\n",
      "------------\n",
      "Retrieving Results for Index 271: buin.\n",
      "First hotel in buin is Paihuen.\n",
      "------------\n",
      "Retrieving Results for Index 336: rafaela.\n",
      "First hotel in rafaela is Parra Hotel & Suites.\n",
      "------------\n",
      "Retrieving Results for Index 347: pimentel.\n",
      "First hotel in pimentel is Hotel Puerto del Sol.\n",
      "------------\n",
      "Retrieving Results for Index 397: mizdah.\n",
      "First hotel in mizdah is محمدالمبروك الاريقط.\n",
      "------------\n",
      "Retrieving Results for Index 413: minudasht.\n",
      "First hotel in minudasht is هتل قصر.\n",
      "------------\n",
      "Retrieving Results for Index 450: turayf.\n",
      "First hotel in turayf is Al Mudawah Hotel.\n",
      "------------\n",
      "Retrieving Results for Index 454: lundazi.\n",
      "First hotel in lundazi is Knox Lodge.\n",
      "------------\n",
      "Retrieving Results for Index 497: rio tercero.\n",
      "First hotel in rio tercero is Hospedaje Las Violetas.\n",
      "------------\n",
      "Retrieving Results for Index 556: xai-xai.\n",
      "First hotel in xai-xai is Complexo da Familia.\n",
      "------------\n"
     ]
    },
    {
     "data": {
      "text/plain": "     Unnamed: 0  City_ID          City City Country   City date      Lat  \\\n65           65       66  mount darwin           ZW  1665334434 -16.7725   \n92           92       93        fallon           US  1665334441  39.4735   \n126         126      127      portland           US  1665334334  45.5234   \n134         134      135     opelousas           US  1665334453  30.5335   \n141         141      142  bossier city           US  1665334454  32.5160   \n239         239      240  saint george           US  1665334482  37.1041   \n243         243      244        beloha           MG  1665334483 -25.1667   \n271         271      272          buin           CL  1665334491 -33.7333   \n336         336      337       rafaela           AR  1665334484 -31.2503   \n347         347      348      pimentel           PE  1665334511  -6.8367   \n397         397      398        mizdah           LY  1665334524  31.4451   \n413         413      414     minudasht           IR  1665334528  37.2289   \n450         450      451        turayf           SA  1665334537  31.6725   \n454         454      455       lundazi           ZM  1665334538 -12.2929   \n497         497      498   rio tercero           AR  1665334548 -32.1730   \n556         556      557       xai-xai           MZ  1665334563 -25.0519   \n\n          Lng  Max Temp  Humidity  Cloudiness  Wind Speed  \\\n65    31.5838     74.64        25           0        4.99   \n92  -118.7774     71.92        24           0        4.61   \n126 -122.6762     70.77        71           0        4.00   \n134  -92.0815     77.88        33           0        6.91   \n141  -93.7321     76.68        43           0        6.91   \n239 -113.5841     75.43        35           0        5.75   \n243   45.0500     75.40        62           0        5.86   \n271  -70.7500     77.86        20           0        3.20   \n336  -61.4867     72.00         6           0        1.99   \n347  -79.9342     70.09        64           0        8.05   \n397   12.9801     75.63        29           0        3.44   \n413   55.3747     74.77        46           0        0.00   \n450   38.6637     75.45        46           0        9.22   \n454   33.1782     70.63        32           0        6.02   \n497  -64.1141     70.45        11           0        6.73   \n556   33.6442     79.79        63           0        9.06   \n\n                                            Hotel Name  Hotel Lat   Hotel Lng  \n65                                                                             \n92                    Best Western Fallon Inn & Suites  39.474582 -118.790005  \n126         Embassy Suites by Hilton Portland Downtown  45.521883 -122.674165  \n134  Holiday Inn Express & Suites Opelousas, an IHG...    30.5164  -92.067826  \n141                             Horseshoe Bossier City  32.515245  -93.738207  \n239                        Best Western Plus Abbey Inn  37.089025 -113.584267  \n243                                                                            \n271                                            Paihuen -33.718883  -70.733587  \n336                               Parra Hotel & Suites -31.253823  -61.485728  \n347                               Hotel Puerto del Sol  -6.842637   -79.93727  \n397                                محمدالمبروك الاريقط  31.447914    12.98387  \n413                                            هتل قصر   37.22433   55.363676  \n450                                   Al Mudawah Hotel  31.676703   38.664518  \n454                                         Knox Lodge   -12.2905    33.17746  \n497                             Hospedaje Las Violetas -32.170609  -64.127751  \n556                                Complexo da Familia -25.047584    33.64493  ",
      "text/html": "<div>\n<style scoped>\n    .dataframe tbody tr th:only-of-type {\n        vertical-align: middle;\n    }\n\n    .dataframe tbody tr th {\n        vertical-align: top;\n    }\n\n    .dataframe thead th {\n        text-align: right;\n    }\n</style>\n<table border=\"1\" class=\"dataframe\">\n  <thead>\n    <tr style=\"text-align: right;\">\n      <th></th>\n      <th>Unnamed: 0</th>\n      <th>City_ID</th>\n      <th>City</th>\n      <th>City Country</th>\n      <th>City date</th>\n      <th>Lat</th>\n      <th>Lng</th>\n      <th>Max Temp</th>\n      <th>Humidity</th>\n      <th>Cloudiness</th>\n      <th>Wind Speed</th>\n      <th>Hotel Name</th>\n      <th>Hotel Lat</th>\n      <th>Hotel Lng</th>\n    </tr>\n  </thead>\n  <tbody>\n    <tr>\n      <th>65</th>\n      <td>65</td>\n      <td>66</td>\n      <td>mount darwin</td>\n      <td>ZW</td>\n      <td>1665334434</td>\n      <td>-16.7725</td>\n      <td>31.5838</td>\n      <td>74.64</td>\n      <td>25</td>\n      <td>0</td>\n      <td>4.99</td>\n      <td></td>\n      <td></td>\n      <td></td>\n    </tr>\n    <tr>\n      <th>92</th>\n      <td>92</td>\n      <td>93</td>\n      <td>fallon</td>\n      <td>US</td>\n      <td>1665334441</td>\n      <td>39.4735</td>\n      <td>-118.7774</td>\n      <td>71.92</td>\n      <td>24</td>\n      <td>0</td>\n      <td>4.61</td>\n      <td>Best Western Fallon Inn &amp; Suites</td>\n      <td>39.474582</td>\n      <td>-118.790005</td>\n    </tr>\n    <tr>\n      <th>126</th>\n      <td>126</td>\n      <td>127</td>\n      <td>portland</td>\n      <td>US</td>\n      <td>1665334334</td>\n      <td>45.5234</td>\n      <td>-122.6762</td>\n      <td>70.77</td>\n      <td>71</td>\n      <td>0</td>\n      <td>4.00</td>\n      <td>Embassy Suites by Hilton Portland Downtown</td>\n      <td>45.521883</td>\n      <td>-122.674165</td>\n    </tr>\n    <tr>\n      <th>134</th>\n      <td>134</td>\n      <td>135</td>\n      <td>opelousas</td>\n      <td>US</td>\n      <td>1665334453</td>\n      <td>30.5335</td>\n      <td>-92.0815</td>\n      <td>77.88</td>\n      <td>33</td>\n      <td>0</td>\n      <td>6.91</td>\n      <td>Holiday Inn Express &amp; Suites Opelousas, an IHG...</td>\n      <td>30.5164</td>\n      <td>-92.067826</td>\n    </tr>\n    <tr>\n      <th>141</th>\n      <td>141</td>\n      <td>142</td>\n      <td>bossier city</td>\n      <td>US</td>\n      <td>1665334454</td>\n      <td>32.5160</td>\n      <td>-93.7321</td>\n      <td>76.68</td>\n      <td>43</td>\n      <td>0</td>\n      <td>6.91</td>\n      <td>Horseshoe Bossier City</td>\n      <td>32.515245</td>\n      <td>-93.738207</td>\n    </tr>\n    <tr>\n      <th>239</th>\n      <td>239</td>\n      <td>240</td>\n      <td>saint george</td>\n      <td>US</td>\n      <td>1665334482</td>\n      <td>37.1041</td>\n      <td>-113.5841</td>\n      <td>75.43</td>\n      <td>35</td>\n      <td>0</td>\n      <td>5.75</td>\n      <td>Best Western Plus Abbey Inn</td>\n      <td>37.089025</td>\n      <td>-113.584267</td>\n    </tr>\n    <tr>\n      <th>243</th>\n      <td>243</td>\n      <td>244</td>\n      <td>beloha</td>\n      <td>MG</td>\n      <td>1665334483</td>\n      <td>-25.1667</td>\n      <td>45.0500</td>\n      <td>75.40</td>\n      <td>62</td>\n      <td>0</td>\n      <td>5.86</td>\n      <td></td>\n      <td></td>\n      <td></td>\n    </tr>\n    <tr>\n      <th>271</th>\n      <td>271</td>\n      <td>272</td>\n      <td>buin</td>\n      <td>CL</td>\n      <td>1665334491</td>\n      <td>-33.7333</td>\n      <td>-70.7500</td>\n      <td>77.86</td>\n      <td>20</td>\n      <td>0</td>\n      <td>3.20</td>\n      <td>Paihuen</td>\n      <td>-33.718883</td>\n      <td>-70.733587</td>\n    </tr>\n    <tr>\n      <th>336</th>\n      <td>336</td>\n      <td>337</td>\n      <td>rafaela</td>\n      <td>AR</td>\n      <td>1665334484</td>\n      <td>-31.2503</td>\n      <td>-61.4867</td>\n      <td>72.00</td>\n      <td>6</td>\n      <td>0</td>\n      <td>1.99</td>\n      <td>Parra Hotel &amp; Suites</td>\n      <td>-31.253823</td>\n      <td>-61.485728</td>\n    </tr>\n    <tr>\n      <th>347</th>\n      <td>347</td>\n      <td>348</td>\n      <td>pimentel</td>\n      <td>PE</td>\n      <td>1665334511</td>\n      <td>-6.8367</td>\n      <td>-79.9342</td>\n      <td>70.09</td>\n      <td>64</td>\n      <td>0</td>\n      <td>8.05</td>\n      <td>Hotel Puerto del Sol</td>\n      <td>-6.842637</td>\n      <td>-79.93727</td>\n    </tr>\n    <tr>\n      <th>397</th>\n      <td>397</td>\n      <td>398</td>\n      <td>mizdah</td>\n      <td>LY</td>\n      <td>1665334524</td>\n      <td>31.4451</td>\n      <td>12.9801</td>\n      <td>75.63</td>\n      <td>29</td>\n      <td>0</td>\n      <td>3.44</td>\n      <td>محمدالمبروك الاريقط</td>\n      <td>31.447914</td>\n      <td>12.98387</td>\n    </tr>\n    <tr>\n      <th>413</th>\n      <td>413</td>\n      <td>414</td>\n      <td>minudasht</td>\n      <td>IR</td>\n      <td>1665334528</td>\n      <td>37.2289</td>\n      <td>55.3747</td>\n      <td>74.77</td>\n      <td>46</td>\n      <td>0</td>\n      <td>0.00</td>\n      <td>هتل قصر</td>\n      <td>37.22433</td>\n      <td>55.363676</td>\n    </tr>\n    <tr>\n      <th>450</th>\n      <td>450</td>\n      <td>451</td>\n      <td>turayf</td>\n      <td>SA</td>\n      <td>1665334537</td>\n      <td>31.6725</td>\n      <td>38.6637</td>\n      <td>75.45</td>\n      <td>46</td>\n      <td>0</td>\n      <td>9.22</td>\n      <td>Al Mudawah Hotel</td>\n      <td>31.676703</td>\n      <td>38.664518</td>\n    </tr>\n    <tr>\n      <th>454</th>\n      <td>454</td>\n      <td>455</td>\n      <td>lundazi</td>\n      <td>ZM</td>\n      <td>1665334538</td>\n      <td>-12.2929</td>\n      <td>33.1782</td>\n      <td>70.63</td>\n      <td>32</td>\n      <td>0</td>\n      <td>6.02</td>\n      <td>Knox Lodge</td>\n      <td>-12.2905</td>\n      <td>33.17746</td>\n    </tr>\n    <tr>\n      <th>497</th>\n      <td>497</td>\n      <td>498</td>\n      <td>rio tercero</td>\n      <td>AR</td>\n      <td>1665334548</td>\n      <td>-32.1730</td>\n      <td>-64.1141</td>\n      <td>70.45</td>\n      <td>11</td>\n      <td>0</td>\n      <td>6.73</td>\n      <td>Hospedaje Las Violetas</td>\n      <td>-32.170609</td>\n      <td>-64.127751</td>\n    </tr>\n    <tr>\n      <th>556</th>\n      <td>556</td>\n      <td>557</td>\n      <td>xai-xai</td>\n      <td>MZ</td>\n      <td>1665334563</td>\n      <td>-25.0519</td>\n      <td>33.6442</td>\n      <td>79.79</td>\n      <td>63</td>\n      <td>0</td>\n      <td>9.06</td>\n      <td>Complexo da Familia</td>\n      <td>-25.047584</td>\n      <td>33.64493</td>\n    </tr>\n  </tbody>\n</table>\n</div>"
     },
     "execution_count": 25,
     "metadata": {},
     "output_type": "execute_result"
    }
   ],
   "source": [
    "# NOTE: Do not change any of the code in this cell\n",
    "\n",
    "# Using the template add the hotel marks to the heatmap\n",
    "info_box_template = \"\"\"\n",
    "<dl>\n",
    "<dt>Name</dt><dd>{Hotel Name}</dd>\n",
    "<dt>City</dt><dd>{City}</dd>\n",
    "<dt>Country</dt><dd>{City Country}</dd>\n",
    "</dl>\n",
    "\"\"\"\n",
    "# Store the DataFrame Row\n",
    "# NOTE: be sure to update with your DataFrame name\n",
    "\n",
    "# get hotel info using Google Place api\n",
    "# base url\n",
    "base_url = \"https://maps.googleapis.com/maps/api/place/nearbysearch/json\"\n",
    "# set parameters to search for hotels\n",
    "params = {\n",
    "    \"radius\": 5000,\n",
    "    \"types\": \"lodging\",\n",
    "    \"key\": g_key,\n",
    "}\n",
    "# use iterrows to iterate through pandas dataframe\n",
    "\n",
    "for index, row in Newdata.iterrows():\n",
    "    # get lat, lng from df\n",
    "    lat = row[\"Lat\"]\n",
    "    lng = row[\"Lng\"]\n",
    "    # change location each iteration while leaving original params in place\n",
    "    params[\"location\"] = f\"{lat},{lng}\"\n",
    "    # assemble url and make API request\n",
    "    print(f\"Retrieving Results for Index {index}: {row['City']}.\")\n",
    "    response = requests.get(base_url, params=params).json()\n",
    "    # extract results\n",
    "    results = response['results']\n",
    "    # save the hotel name to dataframe\n",
    "    try:\n",
    "        print(f\"First hotel in {row['City']} is {results[0]['name']}.\")\n",
    "\n",
    "        # store hotel name\n",
    "        Newdata.loc[index, 'Hotel Name'] = results[0]['name']\n",
    "\n",
    "        # store hotel coordinates\n",
    "        Newdata.loc[index, 'Hotel Lat'] = results[0]['geometry']['location']['lat']\n",
    "        Newdata.loc[index, 'Hotel Lng'] = results[0]['geometry']['location']['lng']\n",
    "\n",
    "\n",
    "    except (KeyError, IndexError):\n",
    "        # set empty value\n",
    "        Newdata.loc[index, 'Hotel Name'] = \"\"\n",
    "        Newdata.loc[index, 'Hotel Lat'] = \"\"\n",
    "        Newdata.loc[index, 'Hotel Lng'] = \"\"\n",
    "\n",
    "        print(\"Missing field/result... skipping.\")\n",
    "    print(\"------------\")\n",
    "\n",
    "Newdata"
   ]
  },
  {
   "cell_type": "code",
   "execution_count": 26,
   "metadata": {},
   "outputs": [
    {
     "ename": "AttributeError",
     "evalue": "module 'collections' has no attribute 'Iterable'",
     "output_type": "error",
     "traceback": [
      "\u001B[0;31m---------------------------------------------------------------------------\u001B[0m",
      "\u001B[0;31mAttributeError\u001B[0m                            Traceback (most recent call last)",
      "Input \u001B[0;32mIn [26]\u001B[0m, in \u001B[0;36m<cell line: 5>\u001B[0;34m()\u001B[0m\n\u001B[1;32m      2\u001B[0m Newdata \u001B[38;5;241m=\u001B[39m Newdata\u001B[38;5;241m.\u001B[39mloc[Newdata[\u001B[38;5;124m'\u001B[39m\u001B[38;5;124mHotel Name\u001B[39m\u001B[38;5;124m'\u001B[39m] \u001B[38;5;241m!=\u001B[39m \u001B[38;5;124m\"\u001B[39m\u001B[38;5;124m\"\u001B[39m]\n\u001B[1;32m      4\u001B[0m \u001B[38;5;66;03m# Add hotel marker layer on top of heat map using info box template\u001B[39;00m\n\u001B[0;32m----> 5\u001B[0m fig_hotel_humidity\u001B[38;5;241m.\u001B[39madd_layer(\u001B[43mgmaps\u001B[49m\u001B[38;5;241;43m.\u001B[39;49m\u001B[43mmarker_layer\u001B[49m\u001B[43m(\u001B[49m\u001B[43mNewdata\u001B[49m\u001B[43m[\u001B[49m\u001B[43m[\u001B[49m\u001B[38;5;124;43m\"\u001B[39;49m\u001B[38;5;124;43mHotel Lat\u001B[39;49m\u001B[38;5;124;43m\"\u001B[39;49m\u001B[43m,\u001B[49m\u001B[43m \u001B[49m\u001B[38;5;124;43m\"\u001B[39;49m\u001B[38;5;124;43mHotel Lng\u001B[39;49m\u001B[38;5;124;43m\"\u001B[39;49m\u001B[43m]\u001B[49m\u001B[43m]\u001B[49m\u001B[43m,\u001B[49m\u001B[43m \u001B[49m\u001B[43minfo_box_content\u001B[49m\u001B[38;5;241;43m=\u001B[39;49m\u001B[43m[\u001B[49m\u001B[43minfo_box_template\u001B[49m\u001B[38;5;241;43m.\u001B[39;49m\u001B[43mformat\u001B[49m\u001B[43m(\u001B[49m\u001B[38;5;241;43m*\u001B[39;49m\u001B[38;5;241;43m*\u001B[39;49m\u001B[43mrow\u001B[49m\u001B[43m)\u001B[49m\u001B[43m \u001B[49m\u001B[38;5;28;43;01mfor\u001B[39;49;00m\u001B[43m \u001B[49m\u001B[43mindex\u001B[49m\u001B[43m,\u001B[49m\u001B[43m \u001B[49m\u001B[43mrow\u001B[49m\u001B[43m \u001B[49m\u001B[38;5;129;43;01min\u001B[39;49;00m\u001B[43m \u001B[49m\u001B[43mNewdata\u001B[49m\u001B[38;5;241;43m.\u001B[39;49m\u001B[43miterrows\u001B[49m\u001B[43m(\u001B[49m\u001B[43m)\u001B[49m\u001B[43m]\u001B[49m\u001B[43m)\u001B[49m)\n\u001B[1;32m      7\u001B[0m \u001B[38;5;66;03m# Display figure\u001B[39;00m\n\u001B[1;32m      8\u001B[0m fig_hotel_humidity\n",
      "File \u001B[0;32m~/.conda/envs/BootCamp_University/lib/python3.10/site-packages/gmaps/marker.py:553\u001B[0m, in \u001B[0;36mmarker_layer\u001B[0;34m(locations, hover_text, label, info_box_content, display_info_box)\u001B[0m\n\u001B[1;32m    485\u001B[0m \u001B[38;5;129m@doc_subst\u001B[39m(_doc_snippets)\n\u001B[1;32m    486\u001B[0m \u001B[38;5;28;01mdef\u001B[39;00m \u001B[38;5;21mmarker_layer\u001B[39m(\n\u001B[1;32m    487\u001B[0m         locations, hover_text\u001B[38;5;241m=\u001B[39m\u001B[38;5;124m'\u001B[39m\u001B[38;5;124m'\u001B[39m, label\u001B[38;5;241m=\u001B[39m\u001B[38;5;124m'\u001B[39m\u001B[38;5;124m'\u001B[39m,\n\u001B[1;32m    488\u001B[0m         info_box_content\u001B[38;5;241m=\u001B[39m\u001B[38;5;28;01mNone\u001B[39;00m, display_info_box\u001B[38;5;241m=\u001B[39m\u001B[38;5;28;01mNone\u001B[39;00m):\n\u001B[1;32m    489\u001B[0m     \u001B[38;5;124;03m\"\"\"\u001B[39;00m\n\u001B[1;32m    490\u001B[0m \u001B[38;5;124;03m    Marker layer\u001B[39;00m\n\u001B[1;32m    491\u001B[0m \n\u001B[0;32m   (...)\u001B[0m\n\u001B[1;32m    551\u001B[0m \u001B[38;5;124;03m        A :class:`gmaps.Markers` instance.\u001B[39;00m\n\u001B[1;32m    552\u001B[0m \u001B[38;5;124;03m    \"\"\"\u001B[39;00m\n\u001B[0;32m--> 553\u001B[0m     marker_options \u001B[38;5;241m=\u001B[39m \u001B[43m_marker_layer_options\u001B[49m\u001B[43m(\u001B[49m\n\u001B[1;32m    554\u001B[0m \u001B[43m        \u001B[49m\u001B[43mlocations\u001B[49m\u001B[43m,\u001B[49m\u001B[43m \u001B[49m\u001B[43mhover_text\u001B[49m\u001B[43m,\u001B[49m\u001B[43m \u001B[49m\u001B[43mlabel\u001B[49m\u001B[43m,\u001B[49m\u001B[43m \u001B[49m\u001B[43minfo_box_content\u001B[49m\u001B[43m,\u001B[49m\u001B[43m \u001B[49m\u001B[43mdisplay_info_box\u001B[49m\u001B[43m)\u001B[49m\n\u001B[1;32m    555\u001B[0m     markers \u001B[38;5;241m=\u001B[39m [Marker(\u001B[38;5;241m*\u001B[39m\u001B[38;5;241m*\u001B[39moption) \u001B[38;5;28;01mfor\u001B[39;00m option \u001B[38;5;129;01min\u001B[39;00m marker_options]\n\u001B[1;32m    556\u001B[0m     \u001B[38;5;28;01mreturn\u001B[39;00m Markers(markers\u001B[38;5;241m=\u001B[39mmarkers)\n",
      "File \u001B[0;32m~/.conda/envs/BootCamp_University/lib/python3.10/site-packages/gmaps/marker.py:311\u001B[0m, in \u001B[0;36m_marker_layer_options\u001B[0;34m(locations, hover_text, label, info_box_content, display_info_box)\u001B[0m\n\u001B[1;32m    309\u001B[0m \u001B[38;5;28;01mif\u001B[39;00m is_atomic(label):\n\u001B[1;32m    310\u001B[0m     label \u001B[38;5;241m=\u001B[39m [label] \u001B[38;5;241m*\u001B[39m number_markers\n\u001B[0;32m--> 311\u001B[0m \u001B[38;5;28;01mif\u001B[39;00m \u001B[43mis_atomic\u001B[49m\u001B[43m(\u001B[49m\u001B[43minfo_box_content\u001B[49m\u001B[43m)\u001B[49m:\n\u001B[1;32m    312\u001B[0m     info_box_content \u001B[38;5;241m=\u001B[39m [info_box_content] \u001B[38;5;241m*\u001B[39m number_markers\n\u001B[1;32m    314\u001B[0m marker_options \u001B[38;5;241m=\u001B[39m {\n\u001B[1;32m    315\u001B[0m     \u001B[38;5;124m'\u001B[39m\u001B[38;5;124mlocation\u001B[39m\u001B[38;5;124m'\u001B[39m: locations_to_list(locations),\n\u001B[1;32m    316\u001B[0m     \u001B[38;5;124m'\u001B[39m\u001B[38;5;124mhover_text\u001B[39m\u001B[38;5;124m'\u001B[39m: hover_text,\n\u001B[1;32m    317\u001B[0m     \u001B[38;5;124m'\u001B[39m\u001B[38;5;124mlabel\u001B[39m\u001B[38;5;124m'\u001B[39m: label\n\u001B[1;32m    318\u001B[0m }\n",
      "File \u001B[0;32m~/.conda/envs/BootCamp_University/lib/python3.10/site-packages/gmaps/options.py:40\u001B[0m, in \u001B[0;36mis_atomic\u001B[0;34m(elem)\u001B[0m\n\u001B[1;32m     34\u001B[0m \u001B[38;5;28;01mdef\u001B[39;00m \u001B[38;5;21mis_atomic\u001B[39m(elem):\n\u001B[1;32m     35\u001B[0m     \u001B[38;5;124;03m\"\"\"\u001B[39;00m\n\u001B[1;32m     36\u001B[0m \u001B[38;5;124;03m    True if an element is a single atom and false if it's a collection\u001B[39;00m\n\u001B[1;32m     37\u001B[0m \u001B[38;5;124;03m    \"\"\"\u001B[39;00m\n\u001B[1;32m     38\u001B[0m     \u001B[38;5;28;01mreturn\u001B[39;00m (\n\u001B[1;32m     39\u001B[0m         \u001B[38;5;28misinstance\u001B[39m(elem, string_types) \u001B[38;5;129;01mor\u001B[39;00m\n\u001B[0;32m---> 40\u001B[0m         \u001B[38;5;129;01mnot\u001B[39;00m \u001B[38;5;28misinstance\u001B[39m(elem, \u001B[43mcollections\u001B[49m\u001B[38;5;241;43m.\u001B[39;49m\u001B[43mIterable\u001B[49m)\n\u001B[1;32m     41\u001B[0m     )\n",
      "\u001B[0;31mAttributeError\u001B[0m: module 'collections' has no attribute 'Iterable'"
     ]
    }
   ],
   "source": [
    "# filter out cities with no hotel\n",
    "Newdata = Newdata.loc[Newdata['Hotel Name'] != \"\"]\n",
    "\n",
    "# Add hotel marker layer on top of heat map using info box template\n",
    "fig_hotel_humidity.add_layer(gmaps.marker_layer(Newdata[[\"Hotel Lat\", \"Hotel Lng\"]], info_box_content=[info_box_template.format(**row) for index, row in Newdata.iterrows()]))\n",
    "\n",
    "# Display figure\n",
    "fig_hotel_humidity\n"
   ]
  },
  {
   "cell_type": "code",
   "execution_count": null,
   "metadata": {},
   "outputs": [],
   "source": []
  }
 ],
 "metadata": {
  "kernelspec": {
   "display_name": "Python 3 (ipykernel)",
   "language": "python",
   "name": "python3"
  },
  "language_info": {
   "codemirror_mode": {
    "name": "ipython",
    "version": 3
   },
   "file_extension": ".py",
   "mimetype": "text/x-python",
   "name": "python",
   "nbconvert_exporter": "python",
   "pygments_lexer": "ipython3",
   "version": "3.10.4"
  },
  "latex_envs": {
   "LaTeX_envs_menu_present": true,
   "autoclose": false,
   "autocomplete": true,
   "bibliofile": "biblio.bib",
   "cite_by": "apalike",
   "current_citInitial": 1,
   "eqLabelWithNumbers": true,
   "eqNumInitial": 1,
   "hotkeys": {
    "equation": "Ctrl-E",
    "itemize": "Ctrl-I"
   },
   "labels_anchors": false,
   "latex_user_defs": false,
   "report_style_numbering": false,
   "user_envs_cfg": false
  },
  "vscode": {
   "interpreter": {
    "hash": "fb82471663e35ca526bd07846db32481c3db2e5d8b294e31c33dd86ee3780031"
   }
  }
 },
 "nbformat": 4,
 "nbformat_minor": 4
}
